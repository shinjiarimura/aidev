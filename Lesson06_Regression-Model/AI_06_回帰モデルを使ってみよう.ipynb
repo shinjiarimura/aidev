{
  "cells": [
    {
      "cell_type": "markdown",
      "metadata": {
        "id": "QZGaWP4grhBa"
      },
      "source": [
        "## 実習の事前準備"
      ]
    },
    {
      "cell_type": "code",
      "execution_count": 1,
      "metadata": {
        "id": "amtFa5xCqlvj"
      },
      "outputs": [],
      "source": [
        "# 必要なライブラリのimport\n",
        "import numpy as np\n",
        "import matplotlib.pyplot as plt\n",
        "import pandas as pd\n",
        "\n",
        "# DataFrameですべての列を表示する設定\n",
        "pd.options.display.max_columns = None"
      ]
    },
    {
      "cell_type": "code",
      "execution_count": 2,
      "metadata": {
        "colab": {
          "base_uri": "https://localhost:8080/",
          "height": 414
        },
        "id": "RVM2g-N6qvHl",
        "outputId": "9e971746-ce58-4c72-9f45-e800f89cf434"
      },
      "outputs": [
        {
          "data": {
            "text/html": [
              "<div>\n",
              "<style scoped>\n",
              "    .dataframe tbody tr th:only-of-type {\n",
              "        vertical-align: middle;\n",
              "    }\n",
              "\n",
              "    .dataframe tbody tr th {\n",
              "        vertical-align: top;\n",
              "    }\n",
              "\n",
              "    .dataframe thead th {\n",
              "        text-align: right;\n",
              "    }\n",
              "</style>\n",
              "<table border=\"1\" class=\"dataframe\">\n",
              "  <thead>\n",
              "    <tr style=\"text-align: right;\">\n",
              "      <th></th>\n",
              "      <th>球団</th>\n",
              "      <th>推定年俸</th>\n",
              "      <th>守備</th>\n",
              "      <th>年数</th>\n",
              "      <th>年齢</th>\n",
              "      <th>身長</th>\n",
              "      <th>体重</th>\n",
              "      <th>血液型</th>\n",
              "      <th>投打</th>\n",
              "      <th>年</th>\n",
              "      <th>打率</th>\n",
              "      <th>試合</th>\n",
              "      <th>打席数</th>\n",
              "      <th>打数</th>\n",
              "      <th>安打</th>\n",
              "      <th>本塁打</th>\n",
              "      <th>打点</th>\n",
              "      <th>盗塁</th>\n",
              "      <th>四球</th>\n",
              "      <th>死球</th>\n",
              "      <th>三振</th>\n",
              "      <th>犠打</th>\n",
              "      <th>併殺打</th>\n",
              "      <th>出塁率</th>\n",
              "      <th>長打率</th>\n",
              "      <th>OPS</th>\n",
              "      <th>RC27</th>\n",
              "      <th>XR27</th>\n",
              "      <th>球団勝率</th>\n",
              "      <th>プレーオフ</th>\n",
              "      <th>球団平均得点</th>\n",
              "      <th>球団打率</th>\n",
              "    </tr>\n",
              "  </thead>\n",
              "  <tbody>\n",
              "    <tr>\n",
              "      <th>0</th>\n",
              "      <td>c</td>\n",
              "      <td>21000</td>\n",
              "      <td>外野手</td>\n",
              "      <td>11</td>\n",
              "      <td>29</td>\n",
              "      <td>177</td>\n",
              "      <td>90</td>\n",
              "      <td>AB型</td>\n",
              "      <td>右左</td>\n",
              "      <td>2017</td>\n",
              "      <td>0.308</td>\n",
              "      <td>143</td>\n",
              "      <td>651</td>\n",
              "      <td>556</td>\n",
              "      <td>171</td>\n",
              "      <td>23</td>\n",
              "      <td>92</td>\n",
              "      <td>13</td>\n",
              "      <td>83</td>\n",
              "      <td>4</td>\n",
              "      <td>113</td>\n",
              "      <td>2</td>\n",
              "      <td>6</td>\n",
              "      <td>0.398</td>\n",
              "      <td>0.505</td>\n",
              "      <td>0.903</td>\n",
              "      <td>7.70</td>\n",
              "      <td>7.52</td>\n",
              "      <td>0.633</td>\n",
              "      <td>2</td>\n",
              "      <td>5.15</td>\n",
              "      <td>0.273</td>\n",
              "    </tr>\n",
              "    <tr>\n",
              "      <th>1</th>\n",
              "      <td>c</td>\n",
              "      <td>19000</td>\n",
              "      <td>内野手</td>\n",
              "      <td>7</td>\n",
              "      <td>28</td>\n",
              "      <td>171</td>\n",
              "      <td>72</td>\n",
              "      <td>A型</td>\n",
              "      <td>右右</td>\n",
              "      <td>2017</td>\n",
              "      <td>0.271</td>\n",
              "      <td>138</td>\n",
              "      <td>629</td>\n",
              "      <td>565</td>\n",
              "      <td>153</td>\n",
              "      <td>14</td>\n",
              "      <td>56</td>\n",
              "      <td>8</td>\n",
              "      <td>32</td>\n",
              "      <td>1</td>\n",
              "      <td>107</td>\n",
              "      <td>30</td>\n",
              "      <td>9</td>\n",
              "      <td>0.311</td>\n",
              "      <td>0.405</td>\n",
              "      <td>0.716</td>\n",
              "      <td>4.10</td>\n",
              "      <td>4.01</td>\n",
              "      <td>0.633</td>\n",
              "      <td>2</td>\n",
              "      <td>5.15</td>\n",
              "      <td>0.273</td>\n",
              "    </tr>\n",
              "    <tr>\n",
              "      <th>2</th>\n",
              "      <td>c</td>\n",
              "      <td>14000</td>\n",
              "      <td>内野手</td>\n",
              "      <td>5</td>\n",
              "      <td>29</td>\n",
              "      <td>171</td>\n",
              "      <td>85</td>\n",
              "      <td>A型</td>\n",
              "      <td>右左</td>\n",
              "      <td>2017</td>\n",
              "      <td>0.290</td>\n",
              "      <td>143</td>\n",
              "      <td>679</td>\n",
              "      <td>565</td>\n",
              "      <td>164</td>\n",
              "      <td>8</td>\n",
              "      <td>60</td>\n",
              "      <td>35</td>\n",
              "      <td>89</td>\n",
              "      <td>15</td>\n",
              "      <td>120</td>\n",
              "      <td>6</td>\n",
              "      <td>5</td>\n",
              "      <td>0.398</td>\n",
              "      <td>0.407</td>\n",
              "      <td>0.805</td>\n",
              "      <td>6.41</td>\n",
              "      <td>6.26</td>\n",
              "      <td>0.633</td>\n",
              "      <td>2</td>\n",
              "      <td>5.15</td>\n",
              "      <td>0.273</td>\n",
              "    </tr>\n",
              "    <tr>\n",
              "      <th>3</th>\n",
              "      <td>c</td>\n",
              "      <td>11500</td>\n",
              "      <td>内野手</td>\n",
              "      <td>7</td>\n",
              "      <td>38</td>\n",
              "      <td>196</td>\n",
              "      <td>126</td>\n",
              "      <td>不明</td>\n",
              "      <td>右右</td>\n",
              "      <td>2017</td>\n",
              "      <td>0.265</td>\n",
              "      <td>116</td>\n",
              "      <td>405</td>\n",
              "      <td>344</td>\n",
              "      <td>91</td>\n",
              "      <td>27</td>\n",
              "      <td>78</td>\n",
              "      <td>0</td>\n",
              "      <td>50</td>\n",
              "      <td>8</td>\n",
              "      <td>111</td>\n",
              "      <td>0</td>\n",
              "      <td>8</td>\n",
              "      <td>0.368</td>\n",
              "      <td>0.532</td>\n",
              "      <td>0.900</td>\n",
              "      <td>6.80</td>\n",
              "      <td>6.90</td>\n",
              "      <td>0.633</td>\n",
              "      <td>2</td>\n",
              "      <td>5.15</td>\n",
              "      <td>0.273</td>\n",
              "    </tr>\n",
              "    <tr>\n",
              "      <th>4</th>\n",
              "      <td>c</td>\n",
              "      <td>11000</td>\n",
              "      <td>内野手</td>\n",
              "      <td>20</td>\n",
              "      <td>41</td>\n",
              "      <td>189</td>\n",
              "      <td>102</td>\n",
              "      <td>B型</td>\n",
              "      <td>右右</td>\n",
              "      <td>2017</td>\n",
              "      <td>0.292</td>\n",
              "      <td>100</td>\n",
              "      <td>288</td>\n",
              "      <td>243</td>\n",
              "      <td>71</td>\n",
              "      <td>9</td>\n",
              "      <td>48</td>\n",
              "      <td>2</td>\n",
              "      <td>40</td>\n",
              "      <td>1</td>\n",
              "      <td>56</td>\n",
              "      <td>0</td>\n",
              "      <td>7</td>\n",
              "      <td>0.389</td>\n",
              "      <td>0.461</td>\n",
              "      <td>0.850</td>\n",
              "      <td>6.55</td>\n",
              "      <td>6.54</td>\n",
              "      <td>0.633</td>\n",
              "      <td>2</td>\n",
              "      <td>5.15</td>\n",
              "      <td>0.273</td>\n",
              "    </tr>\n",
              "  </tbody>\n",
              "</table>\n",
              "</div>"
            ],
            "text/plain": [
              "  球団   推定年俸   守備  年数  年齢   身長   体重  血液型  投打     年     打率   試合  打席数   打数   安打  \\\n",
              "0  c  21000  外野手  11  29  177   90  AB型  右左  2017  0.308  143  651  556  171   \n",
              "1  c  19000  内野手   7  28  171   72   A型  右右  2017  0.271  138  629  565  153   \n",
              "2  c  14000  内野手   5  29  171   85   A型  右左  2017  0.290  143  679  565  164   \n",
              "3  c  11500  内野手   7  38  196  126   不明  右右  2017  0.265  116  405  344   91   \n",
              "4  c  11000  内野手  20  41  189  102   B型  右右  2017  0.292  100  288  243   71   \n",
              "\n",
              "   本塁打  打点  盗塁  四球  死球   三振  犠打  併殺打    出塁率    長打率    OPS  RC27  XR27   球団勝率  \\\n",
              "0   23  92  13  83   4  113   2    6  0.398  0.505  0.903  7.70  7.52  0.633   \n",
              "1   14  56   8  32   1  107  30    9  0.311  0.405  0.716  4.10  4.01  0.633   \n",
              "2    8  60  35  89  15  120   6    5  0.398  0.407  0.805  6.41  6.26  0.633   \n",
              "3   27  78   0  50   8  111   0    8  0.368  0.532  0.900  6.80  6.90  0.633   \n",
              "4    9  48   2  40   1   56   0    7  0.389  0.461  0.850  6.55  6.54  0.633   \n",
              "\n",
              "   プレーオフ  球団平均得点   球団打率  \n",
              "0      2    5.15  0.273  \n",
              "1      2    5.15  0.273  \n",
              "2      2    5.15  0.273  \n",
              "3      2    5.15  0.273  \n",
              "4      2    5.15  0.273  "
            ]
          },
          "execution_count": 2,
          "metadata": {},
          "output_type": "execute_result"
        }
      ],
      "source": [
        "# CSVファイルからデータを読み込む\n",
        "dataset_base = pd.read_csv(\"./baseball_salary_preprocessed.csv\")\n",
        "dataset_base.head()"
      ]
    },
    {
      "cell_type": "code",
      "execution_count": 3,
      "metadata": {
        "colab": {
          "base_uri": "https://localhost:8080/",
          "height": 206
        },
        "id": "8SsqAOiRqxKY",
        "outputId": "6029f001-c7c3-4116-c87d-383f9bbf608e"
      },
      "outputs": [
        {
          "data": {
            "text/html": [
              "<div>\n",
              "<style scoped>\n",
              "    .dataframe tbody tr th:only-of-type {\n",
              "        vertical-align: middle;\n",
              "    }\n",
              "\n",
              "    .dataframe tbody tr th {\n",
              "        vertical-align: top;\n",
              "    }\n",
              "\n",
              "    .dataframe thead th {\n",
              "        text-align: right;\n",
              "    }\n",
              "</style>\n",
              "<table border=\"1\" class=\"dataframe\">\n",
              "  <thead>\n",
              "    <tr style=\"text-align: right;\">\n",
              "      <th></th>\n",
              "      <th>salary</th>\n",
              "      <th>points</th>\n",
              "      <th>years_exp</th>\n",
              "      <th>batting</th>\n",
              "      <th>homerun</th>\n",
              "      <th>team_win</th>\n",
              "    </tr>\n",
              "  </thead>\n",
              "  <tbody>\n",
              "    <tr>\n",
              "      <th>0</th>\n",
              "      <td>21000</td>\n",
              "      <td>92</td>\n",
              "      <td>11</td>\n",
              "      <td>0.308</td>\n",
              "      <td>23</td>\n",
              "      <td>0.633</td>\n",
              "    </tr>\n",
              "    <tr>\n",
              "      <th>1</th>\n",
              "      <td>19000</td>\n",
              "      <td>56</td>\n",
              "      <td>7</td>\n",
              "      <td>0.271</td>\n",
              "      <td>14</td>\n",
              "      <td>0.633</td>\n",
              "    </tr>\n",
              "    <tr>\n",
              "      <th>2</th>\n",
              "      <td>14000</td>\n",
              "      <td>60</td>\n",
              "      <td>5</td>\n",
              "      <td>0.290</td>\n",
              "      <td>8</td>\n",
              "      <td>0.633</td>\n",
              "    </tr>\n",
              "    <tr>\n",
              "      <th>3</th>\n",
              "      <td>11500</td>\n",
              "      <td>78</td>\n",
              "      <td>7</td>\n",
              "      <td>0.265</td>\n",
              "      <td>27</td>\n",
              "      <td>0.633</td>\n",
              "    </tr>\n",
              "    <tr>\n",
              "      <th>4</th>\n",
              "      <td>11000</td>\n",
              "      <td>48</td>\n",
              "      <td>20</td>\n",
              "      <td>0.292</td>\n",
              "      <td>9</td>\n",
              "      <td>0.633</td>\n",
              "    </tr>\n",
              "  </tbody>\n",
              "</table>\n",
              "</div>"
            ],
            "text/plain": [
              "   salary  points  years_exp  batting  homerun  team_win\n",
              "0   21000      92         11    0.308       23     0.633\n",
              "1   19000      56          7    0.271       14     0.633\n",
              "2   14000      60          5    0.290        8     0.633\n",
              "3   11500      78          7    0.265       27     0.633\n",
              "4   11000      48         20    0.292        9     0.633"
            ]
          },
          "execution_count": 3,
          "metadata": {},
          "output_type": "execute_result"
        }
      ],
      "source": [
        "# 列の抜き出し\n",
        "dataset = dataset_base[['推定年俸', '打点', '年数', '打率', '本塁打', '球団勝率']]\n",
        "\n",
        "# 列名をリネームする\n",
        "dataset = dataset.rename(columns={'推定年俸': 'salary', '打点': 'points', \\\n",
        "    '年数': 'years_exp', '打率': 'batting', '本塁打': 'homerun', '球団勝率': 'team_win'})\n",
        "dataset.head()"
      ]
    },
    {
      "cell_type": "markdown",
      "metadata": {
        "id": "bxIAPG-4r1Zq"
      },
      "source": [
        "## 線形回帰モデルの概要"
      ]
    },
    {
      "cell_type": "code",
      "execution_count": 4,
      "metadata": {
        "colab": {
          "base_uri": "https://localhost:8080/",
          "height": 467
        },
        "id": "NZm7T0S4rMdi",
        "outputId": "c299baff-e17a-45c7-fd7c-fd4ab71bfe67"
      },
      "outputs": [
        {
          "data": {
            "text/plain": [
              "<Axes: xlabel='points', ylabel='salary'>"
            ]
          },
          "execution_count": 4,
          "metadata": {},
          "output_type": "execute_result"
        },
        {
          "data": {
            "image/png": "[encoded data removed]",
            "text/plain": [
              "<Figure size 640x480 with 1 Axes>"
            ]
          },
          "metadata": {},
          "output_type": "display_data"
        }
      ],
      "source": [
        "# 打点と推定年俸の散布図\n",
        "dataset.plot(kind='scatter', x='points', y='salary')"
      ]
    },
    {
      "cell_type": "code",
      "execution_count": 5,
      "metadata": {},
      "outputs": [
        {
          "data": {
            "text/plain": [
              "<Axes: xlabel='points'>"
            ]
          },
          "execution_count": 5,
          "metadata": {},
          "output_type": "execute_result"
        },
        {
          "data": {
            "image/png": "[encoded data removed]",
            "text/plain": [
              "<Figure size 640x480 with 1 Axes>"
            ]
          },
          "metadata": {},
          "output_type": "display_data"
        }
      ],
      "source": [
        "# 打点と推定年俸の折れ線グラフ\n",
        "dataset.plot(kind='line', x='points', y='salary')"
      ]
    },
    {
      "cell_type": "markdown",
      "metadata": {
        "id": "COe0PRnn10F4"
      },
      "source": [
        "## 線形回帰モデルを作ってみよう"
      ]
    },
    {
      "cell_type": "markdown",
      "metadata": {
        "id": "-iiF1zyE128Q"
      },
      "source": [
        "### 1変数の線形回帰モデル"
      ]
    },
    {
      "cell_type": "code",
      "execution_count": 6,
      "metadata": {
        "id": "HUITz8L710kG"
      },
      "outputs": [],
      "source": [
        "# 必要なライブラリの追加読み込み\n",
        "from sklearn.model_selection import train_test_split\n",
        "from sklearn.linear_model import LinearRegression\n",
        "from sklearn.metrics import mean_squared_error"
      ]
    },
    {
      "cell_type": "code",
      "execution_count": 7,
      "metadata": {
        "id": "foKs_t922QID"
      },
      "outputs": [],
      "source": [
        "# 目的変数（Y）：推定年俸、説明変数（X）：打点\n",
        "Y = np.array(dataset['salary'])\n",
        "X = np.array(dataset[['points']])"
      ]
    },
    {
      "cell_type": "code",
      "execution_count": 8,
      "metadata": {
        "colab": {
          "base_uri": "https://localhost:8080/"
        },
        "id": "LDUUXS1z2p_m",
        "outputId": "4e5cc79e-7845-48a3-d412-2180ba9e411f"
      },
      "outputs": [
        {
          "name": "stdout",
          "output_type": "stream",
          "text": [
            "Y= (241,) , X= (241, 1)\n"
          ]
        }
      ],
      "source": [
        "# 形状を確認\n",
        "print(\"Y=\", Y.shape, \", X=\", X.shape)"
      ]
    },
    {
      "cell_type": "code",
      "execution_count": 9,
      "metadata": {
        "id": "5JIFJNPi3BiI"
      },
      "outputs": [],
      "source": [
        "# XとYを機械学習用データ（train）とテストデータ（test）に7:3に分ける\n",
        "X_train, X_test, Y_train, Y_test = train_test_split(X, Y, test_size=0.3, random_state=0)\n",
        "\n",
        "# Trainをさらに学習データ（train）と検証データ（valid）に7:3に分ける\n",
        "X_train, X_valid, Y_train, Y_valid = train_test_split(X_train, Y_train, test_size=0.3, random_state=0)"
      ]
    },
    {
      "cell_type": "code",
      "execution_count": 10,
      "metadata": {
        "colab": {
          "base_uri": "https://localhost:8080/"
        },
        "id": "BAaAx6ym3TuA",
        "outputId": "c7fa39ca-c274-44f8-8894-164d380706c7"
      },
      "outputs": [
        {
          "name": "stdout",
          "output_type": "stream",
          "text": [
            "Y_train= (117,) , X_train= (117, 1)\n",
            "Y_valid= (51,) , X_valid= (51, 1)\n",
            "Y_test= (73,) , X_test= (73, 1)\n"
          ]
        }
      ],
      "source": [
        "# 形状を確認\n",
        "print(\"Y_train=\", Y_train.shape, \", X_train=\", X_train.shape)\n",
        "print(\"Y_valid=\", Y_valid.shape, \", X_valid=\", X_valid.shape)\n",
        "print(\"Y_test=\", Y_test.shape, \", X_test=\", X_test.shape)"
      ]
    },
    {
      "cell_type": "code",
      "execution_count": 11,
      "metadata": {
        "colab": {
          "base_uri": "https://localhost:8080/",
          "height": 75
        },
        "id": "SjcgJW9r3iVX",
        "outputId": "d8b4bbe6-7214-4447-bace-2aef2263db76"
      },
      "outputs": [
        {
          "data": {
            "text/html": [
              "<style>#sk-container-id-1 {\n",
              "  /* Definition of color scheme common for light and dark mode */\n",
              "  --sklearn-color-text: #000;\n",
              "  --sklearn-color-text-muted: #666;\n",
              "  --sklearn-color-line: gray;\n",
              "  /* Definition of color scheme for unfitted estimators */\n",
              "  --sklearn-color-unfitted-level-0: #fff5e6;\n",
              "  --sklearn-color-unfitted-level-1: #f6e4d2;\n",
              "  --sklearn-color-unfitted-level-2: #ffe0b3;\n",
              "  --sklearn-color-unfitted-level-3: chocolate;\n",
              "  /* Definition of color scheme for fitted estimators */\n",
              "  --sklearn-color-fitted-level-0: #f0f8ff;\n",
              "  --sklearn-color-fitted-level-1: #d4ebff;\n",
              "  --sklearn-color-fitted-level-2: #b3dbfd;\n",
              "  --sklearn-color-fitted-level-3: cornflowerblue;\n",
              "\n",
              "  /* Specific color for light theme */\n",
              "  --sklearn-color-text-on-default-background: var(--sg-text-color, var(--theme-code-foreground, var(--jp-content-font-color1, black)));\n",
              "  --sklearn-color-background: var(--sg-background-color, var(--theme-background, var(--jp-layout-color0, white)));\n",
              "  --sklearn-color-border-box: var(--sg-text-color, var(--theme-code-foreground, var(--jp-content-font-color1, black)));\n",
              "  --sklearn-color-icon: #696969;\n",
              "\n",
              "  @media (prefers-color-scheme: dark) {\n",
              "    /* Redefinition of color scheme for dark theme */\n",
              "    --sklearn-color-text-on-default-background: var(--sg-text-color, var(--theme-code-foreground, var(--jp-content-font-color1, white)));\n",
              "    --sklearn-color-background: var(--sg-background-color, var(--theme-background, var(--jp-layout-color0, #111)));\n",
              "    --sklearn-color-border-box: var(--sg-text-color, var(--theme-code-foreground, var(--jp-content-font-color1, white)));\n",
              "    --sklearn-color-icon: #878787;\n",
              "  }\n",
              "}\n",
              "\n",
              "#sk-container-id-1 {\n",
              "  color: var(--sklearn-color-text);\n",
              "}\n",
              "\n",
              "#sk-container-id-1 pre {\n",
              "  padding: 0;\n",
              "}\n",
              "\n",
              "#sk-container-id-1 input.sk-hidden--visually {\n",
              "  border: 0;\n",
              "  clip: rect(1px 1px 1px 1px);\n",
              "  clip: rect(1px, 1px, 1px, 1px);\n",
              "  height: 1px;\n",
              "  margin: -1px;\n",
              "  overflow: hidden;\n",
              "  padding: 0;\n",
              "  position: absolute;\n",
              "  width: 1px;\n",
              "}\n",
              "\n",
              "#sk-container-id-1 div.sk-dashed-wrapped {\n",
              "  border: 1px dashed var(--sklearn-color-line);\n",
              "  margin: 0 0.4em 0.5em 0.4em;\n",
              "  box-sizing: border-box;\n",
              "  padding-bottom: 0.4em;\n",
              "  background-color: var(--sklearn-color-background);\n",
              "}\n",
              "\n",
              "#sk-container-id-1 div.sk-container {\n",
              "  /* jupyter's `normalize.less` sets `[hidden] { display: none; }`\n",
              "     but bootstrap.min.css set `[hidden] { display: none !important; }`\n",
              "     so we also need the `!important` here to be able to override the\n",
              "     default hidden behavior on the sphinx rendered scikit-learn.org.\n",
              "     See: https://github.com/scikit-learn/scikit-learn/issues/21755 */\n",
              "  display: inline-block !important;\n",
              "  position: relative;\n",
              "}\n",
              "\n",
              "#sk-container-id-1 div.sk-text-repr-fallback {\n",
              "  display: none;\n",
              "}\n",
              "\n",
              "div.sk-parallel-item,\n",
              "div.sk-serial,\n",
              "div.sk-item {\n",
              "  /* draw centered vertical line to link estimators */\n",
              "  background-image: linear-gradient(var(--sklearn-color-text-on-default-background), var(--sklearn-color-text-on-default-background));\n",
              "  background-size: 2px 100%;\n",
              "  background-repeat: no-repeat;\n",
              "  background-position: center center;\n",
              "}\n",
              "\n",
              "/* Parallel-specific style estimator block */\n",
              "\n",
              "#sk-container-id-1 div.sk-parallel-item::after {\n",
              "  content: \"\";\n",
              "  width: 100%;\n",
              "  border-bottom: 2px solid var(--sklearn-color-text-on-default-background);\n",
              "  flex-grow: 1;\n",
              "}\n",
              "\n",
              "#sk-container-id-1 div.sk-parallel {\n",
              "  display: flex;\n",
              "  align-items: stretch;\n",
              "  justify-content: center;\n",
              "  background-color: var(--sklearn-color-background);\n",
              "  position: relative;\n",
              "}\n",
              "\n",
              "#sk-container-id-1 div.sk-parallel-item {\n",
              "  display: flex;\n",
              "  flex-direction: column;\n",
              "}\n",
              "\n",
              "#sk-container-id-1 div.sk-parallel-item:first-child::after {\n",
              "  align-self: flex-end;\n",
              "  width: 50%;\n",
              "}\n",
              "\n",
              "#sk-container-id-1 div.sk-parallel-item:last-child::after {\n",
              "  align-self: flex-start;\n",
              "  width: 50%;\n",
              "}\n",
              "\n",
              "#sk-container-id-1 div.sk-parallel-item:only-child::after {\n",
              "  width: 0;\n",
              "}\n",
              "\n",
              "/* Serial-specific style estimator block */\n",
              "\n",
              "#sk-container-id-1 div.sk-serial {\n",
              "  display: flex;\n",
              "  flex-direction: column;\n",
              "  align-items: center;\n",
              "  background-color: var(--sklearn-color-background);\n",
              "  padding-right: 1em;\n",
              "  padding-left: 1em;\n",
              "}\n",
              "\n",
              "\n",
              "/* Toggleable style: style used for estimator/Pipeline/ColumnTransformer box that is\n",
              "clickable and can be expanded/collapsed.\n",
              "- Pipeline and ColumnTransformer use this feature and define the default style\n",
              "- Estimators will overwrite some part of the style using the `sk-estimator` class\n",
              "*/\n",
              "\n",
              "/* Pipeline and ColumnTransformer style (default) */\n",
              "\n",
              "#sk-container-id-1 div.sk-toggleable {\n",
              "  /* Default theme specific background. It is overwritten whether we have a\n",
              "  specific estimator or a Pipeline/ColumnTransformer */\n",
              "  background-color: var(--sklearn-color-background);\n",
              "}\n",
              "\n",
              "/* Toggleable label */\n",
              "#sk-container-id-1 label.sk-toggleable__label {\n",
              "  cursor: pointer;\n",
              "  display: flex;\n",
              "  width: 100%;\n",
              "  margin-bottom: 0;\n",
              "  padding: 0.5em;\n",
              "  box-sizing: border-box;\n",
              "  text-align: center;\n",
              "  align-items: start;\n",
              "  justify-content: space-between;\n",
              "  gap: 0.5em;\n",
              "}\n",
              "\n",
              "#sk-container-id-1 label.sk-toggleable__label .caption {\n",
              "  font-size: 0.6rem;\n",
              "  font-weight: lighter;\n",
              "  color: var(--sklearn-color-text-muted);\n",
              "}\n",
              "\n",
              "#sk-container-id-1 label.sk-toggleable__label-arrow:before {\n",
              "  /* Arrow on the left of the label */\n",
              "  content: \"▸\";\n",
              "  float: left;\n",
              "  margin-right: 0.25em;\n",
              "  color: var(--sklearn-color-icon);\n",
              "}\n",
              "\n",
              "#sk-container-id-1 label.sk-toggleable__label-arrow:hover:before {\n",
              "  color: var(--sklearn-color-text);\n",
              "}\n",
              "\n",
              "/* Toggleable content - dropdown */\n",
              "\n",
              "#sk-container-id-1 div.sk-toggleable__content {\n",
              "  max-height: 0;\n",
              "  max-width: 0;\n",
              "  overflow: hidden;\n",
              "  text-align: left;\n",
              "  /* unfitted */\n",
              "  background-color: var(--sklearn-color-unfitted-level-0);\n",
              "}\n",
              "\n",
              "#sk-container-id-1 div.sk-toggleable__content.fitted {\n",
              "  /* fitted */\n",
              "  background-color: var(--sklearn-color-fitted-level-0);\n",
              "}\n",
              "\n",
              "#sk-container-id-1 div.sk-toggleable__content pre {\n",
              "  margin: 0.2em;\n",
              "  border-radius: 0.25em;\n",
              "  color: var(--sklearn-color-text);\n",
              "  /* unfitted */\n",
              "  background-color: var(--sklearn-color-unfitted-level-0);\n",
              "}\n",
              "\n",
              "#sk-container-id-1 div.sk-toggleable__content.fitted pre {\n",
              "  /* unfitted */\n",
              "  background-color: var(--sklearn-color-fitted-level-0);\n",
              "}\n",
              "\n",
              "#sk-container-id-1 input.sk-toggleable__control:checked~div.sk-toggleable__content {\n",
              "  /* Expand drop-down */\n",
              "  max-height: 200px;\n",
              "  max-width: 100%;\n",
              "  overflow: auto;\n",
              "}\n",
              "\n",
              "#sk-container-id-1 input.sk-toggleable__control:checked~label.sk-toggleable__label-arrow:before {\n",
              "  content: \"▾\";\n",
              "}\n",
              "\n",
              "/* Pipeline/ColumnTransformer-specific style */\n",
              "\n",
              "#sk-container-id-1 div.sk-label input.sk-toggleable__control:checked~label.sk-toggleable__label {\n",
              "  color: var(--sklearn-color-text);\n",
              "  background-color: var(--sklearn-color-unfitted-level-2);\n",
              "}\n",
              "\n",
              "#sk-container-id-1 div.sk-label.fitted input.sk-toggleable__control:checked~label.sk-toggleable__label {\n",
              "  background-color: var(--sklearn-color-fitted-level-2);\n",
              "}\n",
              "\n",
              "/* Estimator-specific style */\n",
              "\n",
              "/* Colorize estimator box */\n",
              "#sk-container-id-1 div.sk-estimator input.sk-toggleable__control:checked~label.sk-toggleable__label {\n",
              "  /* unfitted */\n",
              "  background-color: var(--sklearn-color-unfitted-level-2);\n",
              "}\n",
              "\n",
              "#sk-container-id-1 div.sk-estimator.fitted input.sk-toggleable__control:checked~label.sk-toggleable__label {\n",
              "  /* fitted */\n",
              "  background-color: var(--sklearn-color-fitted-level-2);\n",
              "}\n",
              "\n",
              "#sk-container-id-1 div.sk-label label.sk-toggleable__label,\n",
              "#sk-container-id-1 div.sk-label label {\n",
              "  /* The background is the default theme color */\n",
              "  color: var(--sklearn-color-text-on-default-background);\n",
              "}\n",
              "\n",
              "/* On hover, darken the color of the background */\n",
              "#sk-container-id-1 div.sk-label:hover label.sk-toggleable__label {\n",
              "  color: var(--sklearn-color-text);\n",
              "  background-color: var(--sklearn-color-unfitted-level-2);\n",
              "}\n",
              "\n",
              "/* Label box, darken color on hover, fitted */\n",
              "#sk-container-id-1 div.sk-label.fitted:hover label.sk-toggleable__label.fitted {\n",
              "  color: var(--sklearn-color-text);\n",
              "  background-color: var(--sklearn-color-fitted-level-2);\n",
              "}\n",
              "\n",
              "/* Estimator label */\n",
              "\n",
              "#sk-container-id-1 div.sk-label label {\n",
              "  font-family: monospace;\n",
              "  font-weight: bold;\n",
              "  display: inline-block;\n",
              "  line-height: 1.2em;\n",
              "}\n",
              "\n",
              "#sk-container-id-1 div.sk-label-container {\n",
              "  text-align: center;\n",
              "}\n",
              "\n",
              "/* Estimator-specific */\n",
              "#sk-container-id-1 div.sk-estimator {\n",
              "  font-family: monospace;\n",
              "  border: 1px dotted var(--sklearn-color-border-box);\n",
              "  border-radius: 0.25em;\n",
              "  box-sizing: border-box;\n",
              "  margin-bottom: 0.5em;\n",
              "  /* unfitted */\n",
              "  background-color: var(--sklearn-color-unfitted-level-0);\n",
              "}\n",
              "\n",
              "#sk-container-id-1 div.sk-estimator.fitted {\n",
              "  /* fitted */\n",
              "  background-color: var(--sklearn-color-fitted-level-0);\n",
              "}\n",
              "\n",
              "/* on hover */\n",
              "#sk-container-id-1 div.sk-estimator:hover {\n",
              "  /* unfitted */\n",
              "  background-color: var(--sklearn-color-unfitted-level-2);\n",
              "}\n",
              "\n",
              "#sk-container-id-1 div.sk-estimator.fitted:hover {\n",
              "  /* fitted */\n",
              "  background-color: var(--sklearn-color-fitted-level-2);\n",
              "}\n",
              "\n",
              "/* Specification for estimator info (e.g. \"i\" and \"?\") */\n",
              "\n",
              "/* Common style for \"i\" and \"?\" */\n",
              "\n",
              ".sk-estimator-doc-link,\n",
              "a:link.sk-estimator-doc-link,\n",
              "a:visited.sk-estimator-doc-link {\n",
              "  float: right;\n",
              "  font-size: smaller;\n",
              "  line-height: 1em;\n",
              "  font-family: monospace;\n",
              "  background-color: var(--sklearn-color-background);\n",
              "  border-radius: 1em;\n",
              "  height: 1em;\n",
              "  width: 1em;\n",
              "  text-decoration: none !important;\n",
              "  margin-left: 0.5em;\n",
              "  text-align: center;\n",
              "  /* unfitted */\n",
              "  border: var(--sklearn-color-unfitted-level-1) 1pt solid;\n",
              "  color: var(--sklearn-color-unfitted-level-1);\n",
              "}\n",
              "\n",
              ".sk-estimator-doc-link.fitted,\n",
              "a:link.sk-estimator-doc-link.fitted,\n",
              "a:visited.sk-estimator-doc-link.fitted {\n",
              "  /* fitted */\n",
              "  border: var(--sklearn-color-fitted-level-1) 1pt solid;\n",
              "  color: var(--sklearn-color-fitted-level-1);\n",
              "}\n",
              "\n",
              "/* On hover */\n",
              "div.sk-estimator:hover .sk-estimator-doc-link:hover,\n",
              ".sk-estimator-doc-link:hover,\n",
              "div.sk-label-container:hover .sk-estimator-doc-link:hover,\n",
              ".sk-estimator-doc-link:hover {\n",
              "  /* unfitted */\n",
              "  background-color: var(--sklearn-color-unfitted-level-3);\n",
              "  color: var(--sklearn-color-background);\n",
              "  text-decoration: none;\n",
              "}\n",
              "\n",
              "div.sk-estimator.fitted:hover .sk-estimator-doc-link.fitted:hover,\n",
              ".sk-estimator-doc-link.fitted:hover,\n",
              "div.sk-label-container:hover .sk-estimator-doc-link.fitted:hover,\n",
              ".sk-estimator-doc-link.fitted:hover {\n",
              "  /* fitted */\n",
              "  background-color: var(--sklearn-color-fitted-level-3);\n",
              "  color: var(--sklearn-color-background);\n",
              "  text-decoration: none;\n",
              "}\n",
              "\n",
              "/* Span, style for the box shown on hovering the info icon */\n",
              ".sk-estimator-doc-link span {\n",
              "  display: none;\n",
              "  z-index: 9999;\n",
              "  position: relative;\n",
              "  font-weight: normal;\n",
              "  right: .2ex;\n",
              "  padding: .5ex;\n",
              "  margin: .5ex;\n",
              "  width: min-content;\n",
              "  min-width: 20ex;\n",
              "  max-width: 50ex;\n",
              "  color: var(--sklearn-color-text);\n",
              "  box-shadow: 2pt 2pt 4pt #999;\n",
              "  /* unfitted */\n",
              "  background: var(--sklearn-color-unfitted-level-0);\n",
              "  border: .5pt solid var(--sklearn-color-unfitted-level-3);\n",
              "}\n",
              "\n",
              ".sk-estimator-doc-link.fitted span {\n",
              "  /* fitted */\n",
              "  background: var(--sklearn-color-fitted-level-0);\n",
              "  border: var(--sklearn-color-fitted-level-3);\n",
              "}\n",
              "\n",
              ".sk-estimator-doc-link:hover span {\n",
              "  display: block;\n",
              "}\n",
              "\n",
              "/* \"?\"-specific style due to the `<a>` HTML tag */\n",
              "\n",
              "#sk-container-id-1 a.estimator_doc_link {\n",
              "  float: right;\n",
              "  font-size: 1rem;\n",
              "  line-height: 1em;\n",
              "  font-family: monospace;\n",
              "  background-color: var(--sklearn-color-background);\n",
              "  border-radius: 1rem;\n",
              "  height: 1rem;\n",
              "  width: 1rem;\n",
              "  text-decoration: none;\n",
              "  /* unfitted */\n",
              "  color: var(--sklearn-color-unfitted-level-1);\n",
              "  border: var(--sklearn-color-unfitted-level-1) 1pt solid;\n",
              "}\n",
              "\n",
              "#sk-container-id-1 a.estimator_doc_link.fitted {\n",
              "  /* fitted */\n",
              "  border: var(--sklearn-color-fitted-level-1) 1pt solid;\n",
              "  color: var(--sklearn-color-fitted-level-1);\n",
              "}\n",
              "\n",
              "/* On hover */\n",
              "#sk-container-id-1 a.estimator_doc_link:hover {\n",
              "  /* unfitted */\n",
              "  background-color: var(--sklearn-color-unfitted-level-3);\n",
              "  color: var(--sklearn-color-background);\n",
              "  text-decoration: none;\n",
              "}\n",
              "\n",
              "#sk-container-id-1 a.estimator_doc_link.fitted:hover {\n",
              "  /* fitted */\n",
              "  background-color: var(--sklearn-color-fitted-level-3);\n",
              "}\n",
              "</style><div id=\"sk-container-id-1\" class=\"sk-top-container\"><div class=\"sk-text-repr-fallback\"><pre>LinearRegression()</pre><b>In a Jupyter environment, please rerun this cell to show the HTML representation or trust the notebook. <br />On GitHub, the HTML representation is unable to render, please try loading this page with nbviewer.org.</b></div><div class=\"sk-container\" hidden><div class=\"sk-item\"><div class=\"sk-estimator fitted sk-toggleable\"><input class=\"sk-toggleable__control sk-hidden--visually\" id=\"sk-estimator-id-1\" type=\"checkbox\" checked><label for=\"sk-estimator-id-1\" class=\"sk-toggleable__label fitted sk-toggleable__label-arrow\"><div><div>LinearRegression</div></div><div><a class=\"sk-estimator-doc-link fitted\" rel=\"noreferrer\" target=\"_blank\" href=\"https://scikit-learn.org/1.6/modules/generated/sklearn.linear_model.LinearRegression.html\">?<span>Documentation for LinearRegression</span></a><span class=\"sk-estimator-doc-link fitted\">i<span>Fitted</span></span></div></label><div class=\"sk-toggleable__content fitted\"><pre>LinearRegression()</pre></div> </div></div></div></div>"
            ],
            "text/plain": [
              "LinearRegression()"
            ]
          },
          "execution_count": 11,
          "metadata": {},
          "output_type": "execute_result"
        }
      ],
      "source": [
        "# 線形回帰モデルの指定\n",
        "linear_model = LinearRegression()\n",
        "\n",
        "# fit()で学習を実施する\n",
        "linear_model.fit(X_train, Y_train)"
      ]
    },
    {
      "cell_type": "code",
      "execution_count": 12,
      "metadata": {
        "id": "B1jISC673rMM"
      },
      "outputs": [],
      "source": [
        "# predict()で予測を実施する\n",
        "Y_pred = linear_model.predict(X_valid)"
      ]
    },
    {
      "cell_type": "code",
      "execution_count": 13,
      "metadata": {
        "colab": {
          "base_uri": "https://localhost:8080/"
        },
        "id": "F0VEKvkk32EZ",
        "outputId": "a9585df2-8fb3-435b-f013-5be074f12cf9"
      },
      "outputs": [
        {
          "name": "stdout",
          "output_type": "stream",
          "text": [
            "[1140 5400 5700 1650 3100]\n",
            "[ 470.34255761 8918.81501551 9415.78398362 2955.18739817 5688.51672278]\n"
          ]
        }
      ],
      "source": [
        "# 正解（検証データの目的変数）と予測値との比較\n",
        "print(Y_valid[:5])\n",
        "print(Y_pred[:5])"
      ]
    },
    {
      "cell_type": "code",
      "execution_count": 14,
      "metadata": {
        "colab": {
          "base_uri": "https://localhost:8080/"
        },
        "id": "FnjsPFyl4G4_",
        "outputId": "a4c36079-166e-44fd-967d-3f9138ecedd8"
      },
      "outputs": [
        {
          "name": "stdout",
          "output_type": "stream",
          "text": [
            "MSE(1変数の線形回帰モデル): 66838239.728258066\n"
          ]
        }
      ],
      "source": [
        "# MSE（平均二乗誤差）を算出\n",
        "linear_model_mse = mean_squared_error(Y_valid, Y_pred)\n",
        "print('MSE(1変数の線形回帰モデル):', linear_model_mse)"
      ]
    },
    {
      "cell_type": "code",
      "execution_count": 15,
      "metadata": {
        "colab": {
          "base_uri": "https://localhost:8080/"
        },
        "id": "NhKOn5zy46PM",
        "outputId": "e69e5719-0da6-4b5d-e170-3db8872726ce"
      },
      "outputs": [
        {
          "name": "stdout",
          "output_type": "stream",
          "text": [
            "p0: 470.3425576073532 , p1: 248.48448405602494\n"
          ]
        }
      ],
      "source": [
        "# interceptは切片という意味\n",
        "p0 = linear_model.intercept_\n",
        "\n",
        "# coefは係数という意味\n",
        "p1 = linear_model.coef_[0]\n",
        "\n",
        "print(\"p0:\", p0, \", p1:\", p1)"
      ]
    },
    {
      "cell_type": "code",
      "execution_count": 16,
      "metadata": {
        "colab": {
          "base_uri": "https://localhost:8080/",
          "height": 448
        },
        "id": "l8GO1_yE5I9m",
        "outputId": "d4456c5f-4a5e-4ac1-fddb-2e2ed0546504"
      },
      "outputs": [
        {
          "data": {
            "text/plain": [
              "<matplotlib.collections.PathCollection at 0x12f2e4a70>"
            ]
          },
          "execution_count": 16,
          "metadata": {},
          "output_type": "execute_result"
        },
        {
          "data": {
            "image/png": "[encoded data removed]",
            "text/plain": [
              "<Figure size 640x480 with 1 Axes>"
            ]
          },
          "metadata": {},
          "output_type": "display_data"
        }
      ],
      "source": [
        "# パラメータを使った1次関数\n",
        "def calc(x):\n",
        "    return p0 + p1 * x\n",
        "\n",
        "# 打点（X）の最小値～最大値の範囲で値を100個作成してリストに格納する\n",
        "X_simu = np.linspace(X.min(), X.max(), 100)\n",
        "\n",
        "# パラメータを使った1次関数による値\n",
        "Y_simu = calc(X_simu)\n",
        "\n",
        "# 線形回帰モデルによる予測値\n",
        "Y_prd2 = linear_model.predict(X_simu.reshape(-1,1))\n",
        "\n",
        "# １次関数：赤い点線、予測値：オレンジ、実際の値：青い散布図\n",
        "plt.plot(X_simu, Y_prd2, color='orange', linewidth=8)\n",
        "plt.plot(X_simu, Y_simu, color='darkred', linewidth=1, linestyle='dashed')\n",
        "plt.scatter(X, Y)"
      ]
    },
    {
      "cell_type": "markdown",
      "metadata": {
        "id": "apEweq_2Tf8q"
      },
      "source": [
        "### 1変数の線形回帰モデル（対数版）"
      ]
    },
    {
      "cell_type": "code",
      "execution_count": 17,
      "metadata": {
        "colab": {
          "base_uri": "https://localhost:8080/"
        },
        "id": "byMG4d6R7fGv",
        "outputId": "a4179b1c-98e8-46cf-dc0d-6a5d24c5e606"
      },
      "outputs": [
        {
          "name": "stdout",
          "output_type": "stream",
          "text": [
            "[21000 19000 14000 11500 11000]\n",
            "[4.32221929 4.2787536  4.14612804 4.06069784 4.04139269]\n"
          ]
        }
      ],
      "source": [
        "# 推定年俸の対数\n",
        "Y_log = np.log10(Y)\n",
        "\n",
        "# 推定年俸と対数との比較\n",
        "print(Y[:5])\n",
        "print(Y_log[:5])"
      ]
    },
    {
      "cell_type": "code",
      "execution_count": 20,
      "metadata": {
        "id": "O5S_Te8G7fZc"
      },
      "outputs": [],
      "source": [
        "# データセットの分割。Y_logを使っていることに注意\n",
        "X_train, X_test, Y_train, Y_test = train_test_split(X, Y_log, test_size=0.3, random_state=0)\n",
        "X_train, X_valid, Y_train, Y_valid = train_test_split(X_train, Y_train, test_size=0.3, random_state=0)\n",
        "\n",
        "# モデルの作成～予測\n",
        "log_model = LinearRegression()\n",
        "log_model.fit(X_train, Y_train)\n",
        "Y_pred = log_model.predict(X_valid)"
      ]
    },
    {
      "cell_type": "code",
      "execution_count": 21,
      "metadata": {
        "colab": {
          "base_uri": "https://localhost:8080/"
        },
        "id": "6p1X8mFP7sNM",
        "outputId": "0ace920f-3b79-4192-d8d7-15e7a4f7c5c0"
      },
      "outputs": [
        {
          "name": "stdout",
          "output_type": "stream",
          "text": [
            "MSE(1変数の線形回帰モデル～対数版): 76734989.36897749\n"
          ]
        }
      ],
      "source": [
        "# 対数から金額に戻す\n",
        "Y_valid_org = np.power(10, Y_valid)\n",
        "Y_pred_org = np.power(10, Y_pred)\n",
        "\n",
        "# MSEを算出\n",
        "log_model_mse = mean_squared_error(Y_valid_org, Y_pred_org)\n",
        "print('MSE(1変数の線形回帰モデル～対数版):', log_model_mse)"
      ]
    },
    {
      "cell_type": "markdown",
      "metadata": {},
      "source": []
    },
    {
      "cell_type": "code",
      "execution_count": 22,
      "metadata": {
        "colab": {
          "base_uri": "https://localhost:8080/",
          "height": 448
        },
        "id": "fkB34FHx8B4G",
        "outputId": "fd189eb3-4bc1-47fd-9773-b6040cc3e869"
      },
      "outputs": [
        {
          "data": {
            "text/plain": [
              "<matplotlib.collections.PathCollection at 0x12fb25520>"
            ]
          },
          "execution_count": 22,
          "metadata": {},
          "output_type": "execute_result"
        },
        {
          "data": {
            "image/png": "[encoded data removed]",
            "text/plain": [
              "<Figure size 640x480 with 1 Axes>"
            ]
          },
          "metadata": {},
          "output_type": "display_data"
        }
      ],
      "source": [
        "# 打点（X)の最小値～最大値の範囲で値を100個作成してリストに格納する\n",
        "X_simu = np.linspace(X.min(), X.max(), 100)\n",
        "\n",
        "# 線形回帰モデルによる予測値\n",
        "Y_prd1 = linear_model.predict(X_simu.reshape(-1,1))\n",
        "\n",
        "# 線形回帰モデル（対数版）による予測値\n",
        "Y_prd2 = log_model.predict(X_simu.reshape(-1,1))\n",
        "Y_prd2 = np.power(10, Y_prd2)\n",
        "\n",
        "# １次関数：赤い点線、予測値：緑、実際の値：青い散布図\n",
        "plt.plot(X_simu, Y_prd1, color='darkred', linewidth=1, linestyle='dashed')\n",
        "plt.plot(X_simu, Y_prd2, color='green', linewidth=4, linestyle='solid')\n",
        "plt.scatter(X, Y)"
      ]
    },
    {
      "cell_type": "markdown",
      "metadata": {
        "id": "GhYH7NdoTmhO"
      },
      "source": [
        "### 多項式モデル"
      ]
    },
    {
      "cell_type": "code",
      "execution_count": 23,
      "metadata": {
        "colab": {
          "base_uri": "https://localhost:8080/"
        },
        "id": "SeZ0U1JrTlXy",
        "outputId": "0d098bd1-fff3-4211-e117-bc861bdd6391"
      },
      "outputs": [
        {
          "name": "stdout",
          "output_type": "stream",
          "text": [
            "Y= (241,) , X2= (241, 5)\n"
          ]
        }
      ],
      "source": [
        "# 以下の操作用に1次元配列に変換する\n",
        "X2 = X.reshape(-1)\n",
        "\n",
        "# pointsの2～5乗を新たな説明変数として追加\n",
        "# np.stack()はndarrayを連結する関数\n",
        "# axis:結合する次元を指定。1は列\n",
        "X2 = np.stack([X2, X2**2, X2**3, X2**4, X2**5], axis=1)\n",
        "\n",
        "# 形状を確認\n",
        "print(\"Y=\", Y.shape, \", X2=\", X2.shape)"
      ]
    },
    {
      "cell_type": "code",
      "execution_count": 24,
      "metadata": {
        "colab": {
          "base_uri": "https://localhost:8080/"
        },
        "id": "ynb8V2BrUCgv",
        "outputId": "e0746417-d9ce-4f7e-fb59-980a417fe3f7"
      },
      "outputs": [
        {
          "name": "stdout",
          "output_type": "stream",
          "text": [
            "MSE(多項式モデル): 66191888.949005164\n"
          ]
        }
      ],
      "source": [
        "# データセットの分割。X2を使っていることに注意\n",
        "X_train, X_test, Y_train, Y_test = train_test_split(X2, Y, test_size=0.3, random_state=0)\n",
        "X_train, X_valid, Y_train, Y_valid = train_test_split(X_train, Y_train, test_size=0.3, random_state=0)\n",
        "\n",
        "# モデルの作成～予測\n",
        "linear_model2 = LinearRegression()\n",
        "linear_model2.fit(X_train, Y_train)\n",
        "Y_pred = linear_model2.predict(X_valid)\n",
        "\n",
        "# MSEを算出\n",
        "liner_model2_mse = mean_squared_error(Y_valid, Y_pred)\n",
        "print('MSE(多項式モデル):', liner_model2_mse)"
      ]
    },
    {
      "cell_type": "code",
      "execution_count": 25,
      "metadata": {
        "colab": {
          "base_uri": "https://localhost:8080/",
          "height": 448
        },
        "id": "opcl3GWWUNjy",
        "outputId": "e48baef6-3927-411c-ad6e-05c8c7bc9d9c"
      },
      "outputs": [
        {
          "data": {
            "text/plain": [
              "[<matplotlib.lines.Line2D at 0x12fd44f20>]"
            ]
          },
          "execution_count": 25,
          "metadata": {},
          "output_type": "execute_result"
        },
        {
          "data": {
            "image/png": "[encoded data removed]",
            "text/plain": [
              "<Figure size 640x480 with 1 Axes>"
            ]
          },
          "metadata": {},
          "output_type": "display_data"
        }
      ],
      "source": [
        "# 打点（X)の最小値～最大値の範囲で値を100個作成してリストに格納する\n",
        "X_simu = np.linspace(X.min(), X.max(), 100)\n",
        "X_simu2 = np.stack([X_simu, X_simu**2, X_simu**3, X_simu**4, X_simu**5], axis=1)\n",
        "\n",
        "# 線形回帰モデルによる予測値\n",
        "Y_prd1 = linear_model.predict(X_simu.reshape(-1,1))\n",
        "# 線形回帰モデルによる予測値\n",
        "Y_prd2 = linear_model2.predict(X_simu2)\n",
        "\n",
        "# １次関数：赤い点線、予測値：緑、実際の値：青い散布図\n",
        "plt.scatter(X, Y)\n",
        "plt.plot(X_simu, Y_prd1, color='darkred', linewidth=1, linestyle='dashed')\n",
        "plt.plot(X_simu, Y_prd2, color='green', linewidth=4, linestyle='solid')"
      ]
    },
    {
      "cell_type": "markdown",
      "metadata": {
        "id": "0sUt4Ff_V4AK"
      },
      "source": [
        "### モデルの複雑さと過学習"
      ]
    },
    {
      "cell_type": "code",
      "execution_count": 26,
      "metadata": {
        "colab": {
          "base_uri": "https://localhost:8080/",
          "height": 463
        },
        "id": "KPEU03lsUN1c",
        "outputId": "39dd7b79-5899-4434-d4a5-70dd90986dc2"
      },
      "outputs": [
        {
          "data": {
            "text/plain": [
              "[<matplotlib.lines.Line2D at 0x12fd8f470>]"
            ]
          },
          "execution_count": 26,
          "metadata": {},
          "output_type": "execute_result"
        },
        {
          "data": {
            "image/png": "[encoded data removed]",
            "text/plain": [
              "<Figure size 640x480 with 1 Axes>"
            ]
          },
          "metadata": {},
          "output_type": "display_data"
        }
      ],
      "source": [
        "# MSEの結果を入れるリスト\n",
        "mse_list_train = []\n",
        "mse_list_valid = []\n",
        "\n",
        "# 次元の範囲\n",
        "degree = range(2, 41)\n",
        "\n",
        "for i in degree:\n",
        "    # i次元の多項式モデルを作成\n",
        "    X3 = X.reshape(-1)\n",
        "    X3 = np.stack([X3**j for j in range(1, i)], axis=1)\n",
        "\n",
        "    # データセットの分割。X3を使っていることに注意\n",
        "    X_train, X_test, Y_train, Y_test = train_test_split(X3, Y, test_size=0.3, random_state=0)\n",
        "    X_train, X_valid, Y_train, Y_valid = train_test_split(X_train, Y_train, test_size=0.3, random_state=0)\n",
        "\n",
        "    # モデルの作成～予測\n",
        "    linear_model3 = LinearRegression()\n",
        "    linear_model3.fit(X_train, Y_train)\n",
        "\n",
        "    # 学習データに対する予測とMSEの算出\n",
        "    Y_pred = linear_model3.predict(X_train)\n",
        "    mse = mean_squared_error(Y_train, Y_pred)\n",
        "    mse_list_train.append(mse)\n",
        "\n",
        "    # 検証データに対する予測とMSEの算出\n",
        "    Y_pred = linear_model3.predict(X_valid)\n",
        "    mse = mean_squared_error(Y_valid, Y_pred)\n",
        "    mse_list_valid.append(mse)\n",
        "\n",
        "# グラフの描画\n",
        "plt.plot(degree, mse_list_train, color=\"red\")\n",
        "plt.plot(degree, mse_list_valid, color=\"blue\")"
      ]
    },
    {
      "cell_type": "markdown",
      "metadata": {
        "id": "dLe6D4SDWCHz"
      },
      "source": [
        "### 多重線形回帰モデル"
      ]
    },
    {
      "cell_type": "code",
      "execution_count": 27,
      "metadata": {
        "colab": {
          "base_uri": "https://localhost:8080/"
        },
        "id": "SITAZ2UbV8LE",
        "outputId": "e6144b9d-57f6-40b8-ef6d-cf9120cd38d5"
      },
      "outputs": [
        {
          "name": "stdout",
          "output_type": "stream",
          "text": [
            "Y= (241,) , X4= (241, 5)\n"
          ]
        }
      ],
      "source": [
        "# 目的変数（Y）：推定年俸:salary\n",
        "# 説明変数（X）：打点:points, 年数:years_exp, 打率:batting, 本塁打:homerun, 球団勝率:team_win\n",
        "X4 = np.array(dataset[['points', 'years_exp', 'batting', 'homerun', 'team_win']])\n",
        "\n",
        "# 形状を確認\n",
        "print(\"Y=\", Y.shape, \", X4=\", X4.shape)"
      ]
    },
    {
      "cell_type": "code",
      "execution_count": 28,
      "metadata": {
        "colab": {
          "base_uri": "https://localhost:8080/"
        },
        "id": "DSFTUbYhWJYT",
        "outputId": "cdd40d41-0589-46fe-fe8c-68f9810e5be4"
      },
      "outputs": [
        {
          "name": "stdout",
          "output_type": "stream",
          "text": [
            "MSE(多重線形回帰モデル): 59313342.14717213\n"
          ]
        }
      ],
      "source": [
        "# データセットの分割。X4を使っていることに注意\n",
        "X_train, X_test, Y_train, Y_test = train_test_split(X4, Y, test_size=0.3, random_state=0)\n",
        "X_train, X_valid, Y_train, Y_valid = train_test_split(X_train, Y_train, test_size=0.3, random_state=0)\n",
        "\n",
        "# モデルの作成～予測\n",
        "general_model = LinearRegression()\n",
        "general_model.fit(X_train, Y_train)\n",
        "Y_pred = general_model.predict(X_valid)\n",
        "\n",
        "# MSEを算出\n",
        "general_model_mse = mean_squared_error(Y_valid, Y_pred)\n",
        "print('MSE(多重線形回帰モデル):', general_model_mse)"
      ]
    },
    {
      "cell_type": "markdown",
      "metadata": {
        "id": "-GcY2tKbWkSg"
      },
      "source": [
        "### その他の回帰モデル"
      ]
    },
    {
      "cell_type": "code",
      "execution_count": 29,
      "metadata": {
        "colab": {
          "base_uri": "https://localhost:8080/"
        },
        "id": "nHpPjhiWWJ-i",
        "outputId": "a9d73371-1454-42cd-f759-6f9284f472bf"
      },
      "outputs": [
        {
          "name": "stdout",
          "output_type": "stream",
          "text": [
            "MSE(Lasso回帰): 59325970.958443984\n"
          ]
        }
      ],
      "source": [
        "# Lasso回帰\n",
        "from sklearn.linear_model import Lasso\n",
        "\n",
        "# データセットの分割。X4を使っていることに注意\n",
        "X_train, X_test, Y_train, Y_test = train_test_split(X4, Y, test_size=0.3, random_state=0)\n",
        "X_train, X_valid, Y_train, Y_valid = train_test_split(X_train, Y_train, test_size=0.3, random_state=0)\n",
        "\n",
        "# モデルの作成～予測\n",
        "lasso_model = Lasso()\n",
        "lasso_model.fit(X_train, Y_train)\n",
        "Y_pred = lasso_model.predict(X_valid)\n",
        "\n",
        "# MSEを算出\n",
        "lasso_model_mse = mean_squared_error(Y_valid, Y_pred)\n",
        "print('MSE(Lasso回帰):', lasso_model_mse)"
      ]
    },
    {
      "cell_type": "code",
      "execution_count": 30,
      "metadata": {
        "colab": {
          "base_uri": "https://localhost:8080/"
        },
        "id": "aPfiweRjWqzB",
        "outputId": "54e93b0e-e7b5-40cd-c3d3-8913abacbac2"
      },
      "outputs": [
        {
          "name": "stdout",
          "output_type": "stream",
          "text": [
            "MSE(Ridge回帰): 59881176.931278646\n"
          ]
        }
      ],
      "source": [
        "# Ridge回帰\n",
        "from sklearn.linear_model import Ridge\n",
        "\n",
        "# データセットの分割。X4を使っていることに注意\n",
        "X_train, X_test, Y_train, Y_test = train_test_split(X4, Y, test_size=0.3, random_state=0)\n",
        "X_train, X_valid, Y_train, Y_valid = train_test_split(X_train, Y_train, test_size=0.3, random_state=0)\n",
        "\n",
        "# モデルの作成～予測\n",
        "ridge_model = Ridge()\n",
        "ridge_model.fit(X_train, Y_train)\n",
        "Y_pred = ridge_model.predict(X_valid)\n",
        "\n",
        "# MSEを算出\n",
        "ridge_model_mse = mean_squared_error(Y_valid, Y_pred)\n",
        "print('MSE(Ridge回帰):', ridge_model_mse)"
      ]
    },
    {
      "cell_type": "code",
      "execution_count": 31,
      "metadata": {
        "colab": {
          "base_uri": "https://localhost:8080/"
        },
        "id": "lrOOEnVxWrDE",
        "outputId": "308806b2-7145-4c9a-87f4-e66e5b54aaa6"
      },
      "outputs": [
        {
          "name": "stdout",
          "output_type": "stream",
          "text": [
            "MSE(回帰木): 88980684.31372549\n"
          ]
        }
      ],
      "source": [
        "# 決定木\n",
        "from sklearn.tree import DecisionTreeRegressor\n",
        "\n",
        "# データセットの分割。X4を使っていることに注意\n",
        "X_train, X_test, Y_train, Y_test = train_test_split(X4, Y, test_size=0.3, random_state=0)\n",
        "X_train, X_valid, Y_train, Y_valid = train_test_split(X_train, Y_train, test_size=0.3, random_state=0)\n",
        "\n",
        "tree_model = DecisionTreeRegressor()\n",
        "tree_model.fit(X_train, Y_train)\n",
        "Y_pred = tree_model.predict(X_valid)\n",
        "\n",
        "tree_model_mse = mean_squared_error(Y_valid, Y_pred)\n",
        "print('MSE(回帰木):', tree_model_mse)"
      ]
    },
    {
      "cell_type": "code",
      "execution_count": 32,
      "metadata": {
        "colab": {
          "base_uri": "https://localhost:8080/"
        },
        "id": "HBklpkN_W6Wx",
        "outputId": "489050bb-bc81-433e-ca1a-8b3bf098f312"
      },
      "outputs": [
        {
          "name": "stdout",
          "output_type": "stream",
          "text": [
            "MSE(ランダムフォレスト): 76453938.74509804\n"
          ]
        }
      ],
      "source": [
        "# ランダムフォレスト\n",
        "from sklearn.ensemble import RandomForestRegressor\n",
        "\n",
        "# データセットの分割。X4を使っていることに注意\n",
        "X_train, X_test, Y_train, Y_test = train_test_split(X4, Y, test_size=0.3, random_state=0)\n",
        "X_train, X_valid, Y_train, Y_valid = train_test_split(X_train, Y_train, test_size=0.3, random_state=0)\n",
        "\n",
        "randomforest_model = RandomForestRegressor(n_estimators=10, random_state=0)\n",
        "randomforest_model.fit(X_train, Y_train)\n",
        "Y_pred = randomforest_model.predict(X_valid)\n",
        "\n",
        "randomforest_model_mse = mean_squared_error(Y_valid, Y_pred)\n",
        "print('MSE(ランダムフォレスト):', randomforest_model_mse)"
      ]
    },
    {
      "cell_type": "markdown",
      "metadata": {
        "id": "ke5G_pXmXeOj"
      },
      "source": [
        "## より良いモデルを目指して"
      ]
    },
    {
      "cell_type": "markdown",
      "metadata": {
        "id": "o3NFQtOCXicP"
      },
      "source": [
        "### モデルと説明変数の選択"
      ]
    },
    {
      "cell_type": "code",
      "execution_count": 33,
      "metadata": {
        "id": "pPAcMaP8XgeJ"
      },
      "outputs": [],
      "source": [
        "# 総当りで最良のMSEを算出する関数\n",
        "import itertools\n",
        "\n",
        "def get_best_features(x, y, feature_names, model):\n",
        "    # すべての説明変数名の組み合わせを入れるリスト\n",
        "    _name_list = []\n",
        "\n",
        "    # 指定された長さの組み合わせを作成する\n",
        "    for i in range(1, len(feature_names)+1):\n",
        "        for sublist in itertools.combinations(feature_names, i):\n",
        "            _name_list.append(list(sublist))\n",
        "\n",
        "    # 最良のMSEを入れる変数（大きい値を入れておく）\n",
        "    _best_mse = 999999999999\n",
        "    _best_mse_name = ''\n",
        "\n",
        "    # 総当りで比較する\n",
        "    for _name in _name_list:\n",
        "        _x = np.array(x[_name])\n",
        "\n",
        "        _x_train, _x_test, _y_train, _y_test = train_test_split(_x, y, test_size=0.3, random_state=0)\n",
        "        _x_train, _x_valid, _y_train, _y_valid = train_test_split(_x_train, _y_train, test_size=0.3, random_state=0)\n",
        "\n",
        "        # モデルの作成～予測\n",
        "        model.fit(_x_train, _y_train)\n",
        "        _y_pred = model.predict(_x_valid)\n",
        "\n",
        "        # MSEを算出\n",
        "        _mse = mean_squared_error(_y_valid, _y_pred)\n",
        "\n",
        "        # 最小のmseを保管\n",
        "        if _mse < _best_mse:\n",
        "            _best_mse = _mse\n",
        "            _best_mse_name = _name\n",
        "\n",
        "    print(model.__class__.__name__, \":\", ','.join(_best_mse_name), \": MSE=\", _best_mse)"
      ]
    },
    {
      "cell_type": "code",
      "execution_count": 34,
      "metadata": {
        "colab": {
          "base_uri": "https://localhost:8080/"
        },
        "id": "nM-Mnzz_Xlp_",
        "outputId": "3fb748af-7d85-4270-8915-b897164de590"
      },
      "outputs": [
        {
          "name": "stdout",
          "output_type": "stream",
          "text": [
            "LinearRegression : points,years_exp,homerun,team_win : MSE= 59272503.23048061\n",
            "Lasso : points,years_exp,homerun,team_win : MSE= 59290453.099744506\n",
            "Ridge : points,years_exp,homerun,team_win : MSE= 59866522.483427495\n",
            "DecisionTreeRegressor : points,years_exp,batting,homerun : MSE= 71443472.5490196\n",
            "RandomForestRegressor : years_exp,batting,homerun,team_win : MSE= 75322931.14117648\n"
          ]
        }
      ],
      "source": [
        "# 説明変数名のリスト\n",
        "feature_names = ['points', 'years_exp', 'batting', 'homerun', 'team_win']\n",
        "\n",
        "# モデルのリストを用意\n",
        "model_list = []\n",
        "model_list.append(LinearRegression())\n",
        "model_list.append(Lasso())\n",
        "model_list.append(Ridge())\n",
        "model_list.append(DecisionTreeRegressor())\n",
        "model_list.append(RandomForestRegressor(n_estimators=100, random_state=0))\n",
        "\n",
        "for model in model_list:\n",
        "    get_best_features(dataset, Y, feature_names, model)"
      ]
    },
    {
      "cell_type": "code",
      "execution_count": 35,
      "metadata": {
        "id": "j3y55Y_CXpZ-"
      },
      "outputs": [],
      "source": [
        "from sklearn.model_selection import GridSearchCV\n",
        "\n",
        "# モデル:ランダムフォレスト\n",
        "model = RandomForestRegressor(random_state=0)\n",
        "\n",
        "# パラメータ:n_estimators:木の数、max_depth:木の深さ\n",
        "params = {'n_estimators': [10, 50, 100], 'max_depth': [5, 10, 50]}\n",
        "\n",
        "# グリッドサーチの設定\n",
        "# cv:交差検証の回数, scoring:目的変数\n",
        "# 注意:scikit-learnのバージョンが、0.17の場合は、scoring='mean_squared_error' を指定する\n",
        "gscv = GridSearchCV(model, param_grid=params, cv=3, scoring='neg_mean_squared_error')"
      ]
    },
    {
      "cell_type": "code",
      "execution_count": 36,
      "metadata": {
        "id": "u8nENGRtYH5K"
      },
      "outputs": [],
      "source": [
        "# ランダムフォレストで性能が良かった説明変数の組み合わせを指定\n",
        "X5 = np.array(dataset[['years_exp', 'homerun', 'team_win', 'batting']])\n",
        "\n",
        "# データセットの分割。X5を使っていることに注意\n",
        "X_train, X_test, Y_train, Y_test = train_test_split(X5, Y, test_size=0.3, random_state=0)"
      ]
    },
    {
      "cell_type": "code",
      "execution_count": 37,
      "metadata": {
        "colab": {
          "base_uri": "https://localhost:8080/",
          "height": 118
        },
        "id": "Nur8j81wYMKY",
        "outputId": "e6a5b964-0353-437f-a0a8-d48ca5100bfe"
      },
      "outputs": [
        {
          "data": {
            "text/html": [
              "<style>#sk-container-id-2 {\n",
              "  /* Definition of color scheme common for light and dark mode */\n",
              "  --sklearn-color-text: #000;\n",
              "  --sklearn-color-text-muted: #666;\n",
              "  --sklearn-color-line: gray;\n",
              "  /* Definition of color scheme for unfitted estimators */\n",
              "  --sklearn-color-unfitted-level-0: #fff5e6;\n",
              "  --sklearn-color-unfitted-level-1: #f6e4d2;\n",
              "  --sklearn-color-unfitted-level-2: #ffe0b3;\n",
              "  --sklearn-color-unfitted-level-3: chocolate;\n",
              "  /* Definition of color scheme for fitted estimators */\n",
              "  --sklearn-color-fitted-level-0: #f0f8ff;\n",
              "  --sklearn-color-fitted-level-1: #d4ebff;\n",
              "  --sklearn-color-fitted-level-2: #b3dbfd;\n",
              "  --sklearn-color-fitted-level-3: cornflowerblue;\n",
              "\n",
              "  /* Specific color for light theme */\n",
              "  --sklearn-color-text-on-default-background: var(--sg-text-color, var(--theme-code-foreground, var(--jp-content-font-color1, black)));\n",
              "  --sklearn-color-background: var(--sg-background-color, var(--theme-background, var(--jp-layout-color0, white)));\n",
              "  --sklearn-color-border-box: var(--sg-text-color, var(--theme-code-foreground, var(--jp-content-font-color1, black)));\n",
              "  --sklearn-color-icon: #696969;\n",
              "\n",
              "  @media (prefers-color-scheme: dark) {\n",
              "    /* Redefinition of color scheme for dark theme */\n",
              "    --sklearn-color-text-on-default-background: var(--sg-text-color, var(--theme-code-foreground, var(--jp-content-font-color1, white)));\n",
              "    --sklearn-color-background: var(--sg-background-color, var(--theme-background, var(--jp-layout-color0, #111)));\n",
              "    --sklearn-color-border-box: var(--sg-text-color, var(--theme-code-foreground, var(--jp-content-font-color1, white)));\n",
              "    --sklearn-color-icon: #878787;\n",
              "  }\n",
              "}\n",
              "\n",
              "#sk-container-id-2 {\n",
              "  color: var(--sklearn-color-text);\n",
              "}\n",
              "\n",
              "#sk-container-id-2 pre {\n",
              "  padding: 0;\n",
              "}\n",
              "\n",
              "#sk-container-id-2 input.sk-hidden--visually {\n",
              "  border: 0;\n",
              "  clip: rect(1px 1px 1px 1px);\n",
              "  clip: rect(1px, 1px, 1px, 1px);\n",
              "  height: 1px;\n",
              "  margin: -1px;\n",
              "  overflow: hidden;\n",
              "  padding: 0;\n",
              "  position: absolute;\n",
              "  width: 1px;\n",
              "}\n",
              "\n",
              "#sk-container-id-2 div.sk-dashed-wrapped {\n",
              "  border: 1px dashed var(--sklearn-color-line);\n",
              "  margin: 0 0.4em 0.5em 0.4em;\n",
              "  box-sizing: border-box;\n",
              "  padding-bottom: 0.4em;\n",
              "  background-color: var(--sklearn-color-background);\n",
              "}\n",
              "\n",
              "#sk-container-id-2 div.sk-container {\n",
              "  /* jupyter's `normalize.less` sets `[hidden] { display: none; }`\n",
              "     but bootstrap.min.css set `[hidden] { display: none !important; }`\n",
              "     so we also need the `!important` here to be able to override the\n",
              "     default hidden behavior on the sphinx rendered scikit-learn.org.\n",
              "     See: https://github.com/scikit-learn/scikit-learn/issues/21755 */\n",
              "  display: inline-block !important;\n",
              "  position: relative;\n",
              "}\n",
              "\n",
              "#sk-container-id-2 div.sk-text-repr-fallback {\n",
              "  display: none;\n",
              "}\n",
              "\n",
              "div.sk-parallel-item,\n",
              "div.sk-serial,\n",
              "div.sk-item {\n",
              "  /* draw centered vertical line to link estimators */\n",
              "  background-image: linear-gradient(var(--sklearn-color-text-on-default-background), var(--sklearn-color-text-on-default-background));\n",
              "  background-size: 2px 100%;\n",
              "  background-repeat: no-repeat;\n",
              "  background-position: center center;\n",
              "}\n",
              "\n",
              "/* Parallel-specific style estimator block */\n",
              "\n",
              "#sk-container-id-2 div.sk-parallel-item::after {\n",
              "  content: \"\";\n",
              "  width: 100%;\n",
              "  border-bottom: 2px solid var(--sklearn-color-text-on-default-background);\n",
              "  flex-grow: 1;\n",
              "}\n",
              "\n",
              "#sk-container-id-2 div.sk-parallel {\n",
              "  display: flex;\n",
              "  align-items: stretch;\n",
              "  justify-content: center;\n",
              "  background-color: var(--sklearn-color-background);\n",
              "  position: relative;\n",
              "}\n",
              "\n",
              "#sk-container-id-2 div.sk-parallel-item {\n",
              "  display: flex;\n",
              "  flex-direction: column;\n",
              "}\n",
              "\n",
              "#sk-container-id-2 div.sk-parallel-item:first-child::after {\n",
              "  align-self: flex-end;\n",
              "  width: 50%;\n",
              "}\n",
              "\n",
              "#sk-container-id-2 div.sk-parallel-item:last-child::after {\n",
              "  align-self: flex-start;\n",
              "  width: 50%;\n",
              "}\n",
              "\n",
              "#sk-container-id-2 div.sk-parallel-item:only-child::after {\n",
              "  width: 0;\n",
              "}\n",
              "\n",
              "/* Serial-specific style estimator block */\n",
              "\n",
              "#sk-container-id-2 div.sk-serial {\n",
              "  display: flex;\n",
              "  flex-direction: column;\n",
              "  align-items: center;\n",
              "  background-color: var(--sklearn-color-background);\n",
              "  padding-right: 1em;\n",
              "  padding-left: 1em;\n",
              "}\n",
              "\n",
              "\n",
              "/* Toggleable style: style used for estimator/Pipeline/ColumnTransformer box that is\n",
              "clickable and can be expanded/collapsed.\n",
              "- Pipeline and ColumnTransformer use this feature and define the default style\n",
              "- Estimators will overwrite some part of the style using the `sk-estimator` class\n",
              "*/\n",
              "\n",
              "/* Pipeline and ColumnTransformer style (default) */\n",
              "\n",
              "#sk-container-id-2 div.sk-toggleable {\n",
              "  /* Default theme specific background. It is overwritten whether we have a\n",
              "  specific estimator or a Pipeline/ColumnTransformer */\n",
              "  background-color: var(--sklearn-color-background);\n",
              "}\n",
              "\n",
              "/* Toggleable label */\n",
              "#sk-container-id-2 label.sk-toggleable__label {\n",
              "  cursor: pointer;\n",
              "  display: flex;\n",
              "  width: 100%;\n",
              "  margin-bottom: 0;\n",
              "  padding: 0.5em;\n",
              "  box-sizing: border-box;\n",
              "  text-align: center;\n",
              "  align-items: start;\n",
              "  justify-content: space-between;\n",
              "  gap: 0.5em;\n",
              "}\n",
              "\n",
              "#sk-container-id-2 label.sk-toggleable__label .caption {\n",
              "  font-size: 0.6rem;\n",
              "  font-weight: lighter;\n",
              "  color: var(--sklearn-color-text-muted);\n",
              "}\n",
              "\n",
              "#sk-container-id-2 label.sk-toggleable__label-arrow:before {\n",
              "  /* Arrow on the left of the label */\n",
              "  content: \"▸\";\n",
              "  float: left;\n",
              "  margin-right: 0.25em;\n",
              "  color: var(--sklearn-color-icon);\n",
              "}\n",
              "\n",
              "#sk-container-id-2 label.sk-toggleable__label-arrow:hover:before {\n",
              "  color: var(--sklearn-color-text);\n",
              "}\n",
              "\n",
              "/* Toggleable content - dropdown */\n",
              "\n",
              "#sk-container-id-2 div.sk-toggleable__content {\n",
              "  max-height: 0;\n",
              "  max-width: 0;\n",
              "  overflow: hidden;\n",
              "  text-align: left;\n",
              "  /* unfitted */\n",
              "  background-color: var(--sklearn-color-unfitted-level-0);\n",
              "}\n",
              "\n",
              "#sk-container-id-2 div.sk-toggleable__content.fitted {\n",
              "  /* fitted */\n",
              "  background-color: var(--sklearn-color-fitted-level-0);\n",
              "}\n",
              "\n",
              "#sk-container-id-2 div.sk-toggleable__content pre {\n",
              "  margin: 0.2em;\n",
              "  border-radius: 0.25em;\n",
              "  color: var(--sklearn-color-text);\n",
              "  /* unfitted */\n",
              "  background-color: var(--sklearn-color-unfitted-level-0);\n",
              "}\n",
              "\n",
              "#sk-container-id-2 div.sk-toggleable__content.fitted pre {\n",
              "  /* unfitted */\n",
              "  background-color: var(--sklearn-color-fitted-level-0);\n",
              "}\n",
              "\n",
              "#sk-container-id-2 input.sk-toggleable__control:checked~div.sk-toggleable__content {\n",
              "  /* Expand drop-down */\n",
              "  max-height: 200px;\n",
              "  max-width: 100%;\n",
              "  overflow: auto;\n",
              "}\n",
              "\n",
              "#sk-container-id-2 input.sk-toggleable__control:checked~label.sk-toggleable__label-arrow:before {\n",
              "  content: \"▾\";\n",
              "}\n",
              "\n",
              "/* Pipeline/ColumnTransformer-specific style */\n",
              "\n",
              "#sk-container-id-2 div.sk-label input.sk-toggleable__control:checked~label.sk-toggleable__label {\n",
              "  color: var(--sklearn-color-text);\n",
              "  background-color: var(--sklearn-color-unfitted-level-2);\n",
              "}\n",
              "\n",
              "#sk-container-id-2 div.sk-label.fitted input.sk-toggleable__control:checked~label.sk-toggleable__label {\n",
              "  background-color: var(--sklearn-color-fitted-level-2);\n",
              "}\n",
              "\n",
              "/* Estimator-specific style */\n",
              "\n",
              "/* Colorize estimator box */\n",
              "#sk-container-id-2 div.sk-estimator input.sk-toggleable__control:checked~label.sk-toggleable__label {\n",
              "  /* unfitted */\n",
              "  background-color: var(--sklearn-color-unfitted-level-2);\n",
              "}\n",
              "\n",
              "#sk-container-id-2 div.sk-estimator.fitted input.sk-toggleable__control:checked~label.sk-toggleable__label {\n",
              "  /* fitted */\n",
              "  background-color: var(--sklearn-color-fitted-level-2);\n",
              "}\n",
              "\n",
              "#sk-container-id-2 div.sk-label label.sk-toggleable__label,\n",
              "#sk-container-id-2 div.sk-label label {\n",
              "  /* The background is the default theme color */\n",
              "  color: var(--sklearn-color-text-on-default-background);\n",
              "}\n",
              "\n",
              "/* On hover, darken the color of the background */\n",
              "#sk-container-id-2 div.sk-label:hover label.sk-toggleable__label {\n",
              "  color: var(--sklearn-color-text);\n",
              "  background-color: var(--sklearn-color-unfitted-level-2);\n",
              "}\n",
              "\n",
              "/* Label box, darken color on hover, fitted */\n",
              "#sk-container-id-2 div.sk-label.fitted:hover label.sk-toggleable__label.fitted {\n",
              "  color: var(--sklearn-color-text);\n",
              "  background-color: var(--sklearn-color-fitted-level-2);\n",
              "}\n",
              "\n",
              "/* Estimator label */\n",
              "\n",
              "#sk-container-id-2 div.sk-label label {\n",
              "  font-family: monospace;\n",
              "  font-weight: bold;\n",
              "  display: inline-block;\n",
              "  line-height: 1.2em;\n",
              "}\n",
              "\n",
              "#sk-container-id-2 div.sk-label-container {\n",
              "  text-align: center;\n",
              "}\n",
              "\n",
              "/* Estimator-specific */\n",
              "#sk-container-id-2 div.sk-estimator {\n",
              "  font-family: monospace;\n",
              "  border: 1px dotted var(--sklearn-color-border-box);\n",
              "  border-radius: 0.25em;\n",
              "  box-sizing: border-box;\n",
              "  margin-bottom: 0.5em;\n",
              "  /* unfitted */\n",
              "  background-color: var(--sklearn-color-unfitted-level-0);\n",
              "}\n",
              "\n",
              "#sk-container-id-2 div.sk-estimator.fitted {\n",
              "  /* fitted */\n",
              "  background-color: var(--sklearn-color-fitted-level-0);\n",
              "}\n",
              "\n",
              "/* on hover */\n",
              "#sk-container-id-2 div.sk-estimator:hover {\n",
              "  /* unfitted */\n",
              "  background-color: var(--sklearn-color-unfitted-level-2);\n",
              "}\n",
              "\n",
              "#sk-container-id-2 div.sk-estimator.fitted:hover {\n",
              "  /* fitted */\n",
              "  background-color: var(--sklearn-color-fitted-level-2);\n",
              "}\n",
              "\n",
              "/* Specification for estimator info (e.g. \"i\" and \"?\") */\n",
              "\n",
              "/* Common style for \"i\" and \"?\" */\n",
              "\n",
              ".sk-estimator-doc-link,\n",
              "a:link.sk-estimator-doc-link,\n",
              "a:visited.sk-estimator-doc-link {\n",
              "  float: right;\n",
              "  font-size: smaller;\n",
              "  line-height: 1em;\n",
              "  font-family: monospace;\n",
              "  background-color: var(--sklearn-color-background);\n",
              "  border-radius: 1em;\n",
              "  height: 1em;\n",
              "  width: 1em;\n",
              "  text-decoration: none !important;\n",
              "  margin-left: 0.5em;\n",
              "  text-align: center;\n",
              "  /* unfitted */\n",
              "  border: var(--sklearn-color-unfitted-level-1) 1pt solid;\n",
              "  color: var(--sklearn-color-unfitted-level-1);\n",
              "}\n",
              "\n",
              ".sk-estimator-doc-link.fitted,\n",
              "a:link.sk-estimator-doc-link.fitted,\n",
              "a:visited.sk-estimator-doc-link.fitted {\n",
              "  /* fitted */\n",
              "  border: var(--sklearn-color-fitted-level-1) 1pt solid;\n",
              "  color: var(--sklearn-color-fitted-level-1);\n",
              "}\n",
              "\n",
              "/* On hover */\n",
              "div.sk-estimator:hover .sk-estimator-doc-link:hover,\n",
              ".sk-estimator-doc-link:hover,\n",
              "div.sk-label-container:hover .sk-estimator-doc-link:hover,\n",
              ".sk-estimator-doc-link:hover {\n",
              "  /* unfitted */\n",
              "  background-color: var(--sklearn-color-unfitted-level-3);\n",
              "  color: var(--sklearn-color-background);\n",
              "  text-decoration: none;\n",
              "}\n",
              "\n",
              "div.sk-estimator.fitted:hover .sk-estimator-doc-link.fitted:hover,\n",
              ".sk-estimator-doc-link.fitted:hover,\n",
              "div.sk-label-container:hover .sk-estimator-doc-link.fitted:hover,\n",
              ".sk-estimator-doc-link.fitted:hover {\n",
              "  /* fitted */\n",
              "  background-color: var(--sklearn-color-fitted-level-3);\n",
              "  color: var(--sklearn-color-background);\n",
              "  text-decoration: none;\n",
              "}\n",
              "\n",
              "/* Span, style for the box shown on hovering the info icon */\n",
              ".sk-estimator-doc-link span {\n",
              "  display: none;\n",
              "  z-index: 9999;\n",
              "  position: relative;\n",
              "  font-weight: normal;\n",
              "  right: .2ex;\n",
              "  padding: .5ex;\n",
              "  margin: .5ex;\n",
              "  width: min-content;\n",
              "  min-width: 20ex;\n",
              "  max-width: 50ex;\n",
              "  color: var(--sklearn-color-text);\n",
              "  box-shadow: 2pt 2pt 4pt #999;\n",
              "  /* unfitted */\n",
              "  background: var(--sklearn-color-unfitted-level-0);\n",
              "  border: .5pt solid var(--sklearn-color-unfitted-level-3);\n",
              "}\n",
              "\n",
              ".sk-estimator-doc-link.fitted span {\n",
              "  /* fitted */\n",
              "  background: var(--sklearn-color-fitted-level-0);\n",
              "  border: var(--sklearn-color-fitted-level-3);\n",
              "}\n",
              "\n",
              ".sk-estimator-doc-link:hover span {\n",
              "  display: block;\n",
              "}\n",
              "\n",
              "/* \"?\"-specific style due to the `<a>` HTML tag */\n",
              "\n",
              "#sk-container-id-2 a.estimator_doc_link {\n",
              "  float: right;\n",
              "  font-size: 1rem;\n",
              "  line-height: 1em;\n",
              "  font-family: monospace;\n",
              "  background-color: var(--sklearn-color-background);\n",
              "  border-radius: 1rem;\n",
              "  height: 1rem;\n",
              "  width: 1rem;\n",
              "  text-decoration: none;\n",
              "  /* unfitted */\n",
              "  color: var(--sklearn-color-unfitted-level-1);\n",
              "  border: var(--sklearn-color-unfitted-level-1) 1pt solid;\n",
              "}\n",
              "\n",
              "#sk-container-id-2 a.estimator_doc_link.fitted {\n",
              "  /* fitted */\n",
              "  border: var(--sklearn-color-fitted-level-1) 1pt solid;\n",
              "  color: var(--sklearn-color-fitted-level-1);\n",
              "}\n",
              "\n",
              "/* On hover */\n",
              "#sk-container-id-2 a.estimator_doc_link:hover {\n",
              "  /* unfitted */\n",
              "  background-color: var(--sklearn-color-unfitted-level-3);\n",
              "  color: var(--sklearn-color-background);\n",
              "  text-decoration: none;\n",
              "}\n",
              "\n",
              "#sk-container-id-2 a.estimator_doc_link.fitted:hover {\n",
              "  /* fitted */\n",
              "  background-color: var(--sklearn-color-fitted-level-3);\n",
              "}\n",
              "</style><div id=\"sk-container-id-2\" class=\"sk-top-container\"><div class=\"sk-text-repr-fallback\"><pre>GridSearchCV(cv=3, estimator=RandomForestRegressor(random_state=0),\n",
              "             param_grid={&#x27;max_depth&#x27;: [5, 10, 50],\n",
              "                         &#x27;n_estimators&#x27;: [10, 50, 100]},\n",
              "             scoring=&#x27;neg_mean_squared_error&#x27;)</pre><b>In a Jupyter environment, please rerun this cell to show the HTML representation or trust the notebook. <br />On GitHub, the HTML representation is unable to render, please try loading this page with nbviewer.org.</b></div><div class=\"sk-container\" hidden><div class=\"sk-item sk-dashed-wrapped\"><div class=\"sk-label-container\"><div class=\"sk-label fitted sk-toggleable\"><input class=\"sk-toggleable__control sk-hidden--visually\" id=\"sk-estimator-id-2\" type=\"checkbox\" ><label for=\"sk-estimator-id-2\" class=\"sk-toggleable__label fitted sk-toggleable__label-arrow\"><div><div>GridSearchCV</div></div><div><a class=\"sk-estimator-doc-link fitted\" rel=\"noreferrer\" target=\"_blank\" href=\"https://scikit-learn.org/1.6/modules/generated/sklearn.model_selection.GridSearchCV.html\">?<span>Documentation for GridSearchCV</span></a><span class=\"sk-estimator-doc-link fitted\">i<span>Fitted</span></span></div></label><div class=\"sk-toggleable__content fitted\"><pre>GridSearchCV(cv=3, estimator=RandomForestRegressor(random_state=0),\n",
              "             param_grid={&#x27;max_depth&#x27;: [5, 10, 50],\n",
              "                         &#x27;n_estimators&#x27;: [10, 50, 100]},\n",
              "             scoring=&#x27;neg_mean_squared_error&#x27;)</pre></div> </div></div><div class=\"sk-parallel\"><div class=\"sk-parallel-item\"><div class=\"sk-item\"><div class=\"sk-label-container\"><div class=\"sk-label fitted sk-toggleable\"><input class=\"sk-toggleable__control sk-hidden--visually\" id=\"sk-estimator-id-3\" type=\"checkbox\" ><label for=\"sk-estimator-id-3\" class=\"sk-toggleable__label fitted sk-toggleable__label-arrow\"><div><div>best_estimator_: RandomForestRegressor</div></div></label><div class=\"sk-toggleable__content fitted\"><pre>RandomForestRegressor(max_depth=10, n_estimators=50, random_state=0)</pre></div> </div></div><div class=\"sk-serial\"><div class=\"sk-item\"><div class=\"sk-estimator fitted sk-toggleable\"><input class=\"sk-toggleable__control sk-hidden--visually\" id=\"sk-estimator-id-4\" type=\"checkbox\" ><label for=\"sk-estimator-id-4\" class=\"sk-toggleable__label fitted sk-toggleable__label-arrow\"><div><div>RandomForestRegressor</div></div><div><a class=\"sk-estimator-doc-link fitted\" rel=\"noreferrer\" target=\"_blank\" href=\"https://scikit-learn.org/1.6/modules/generated/sklearn.ensemble.RandomForestRegressor.html\">?<span>Documentation for RandomForestRegressor</span></a></div></label><div class=\"sk-toggleable__content fitted\"><pre>RandomForestRegressor(max_depth=10, n_estimators=50, random_state=0)</pre></div> </div></div></div></div></div></div></div></div></div>"
            ],
            "text/plain": [
              "GridSearchCV(cv=3, estimator=RandomForestRegressor(random_state=0),\n",
              "             param_grid={'max_depth': [5, 10, 50],\n",
              "                         'n_estimators': [10, 50, 100]},\n",
              "             scoring='neg_mean_squared_error')"
            ]
          },
          "execution_count": 37,
          "metadata": {},
          "output_type": "execute_result"
        }
      ],
      "source": [
        "# 学習を実施\n",
        "gscv.fit(X_train, Y_train)"
      ]
    },
    {
      "cell_type": "code",
      "execution_count": 39,
      "metadata": {
        "colab": {
          "base_uri": "https://localhost:8080/"
        },
        "id": "B_oQ2iF_YpLj",
        "outputId": "f7a5654b-b18c-42cb-a403-9cc605b03b35"
      },
      "outputs": [
        {
          "data": {
            "text/plain": [
              "np.float64(-53609831.652131505)"
            ]
          },
          "execution_count": 39,
          "metadata": {},
          "output_type": "execute_result"
        }
      ],
      "source": [
        "# MSE\n",
        "gscv.best_score_"
      ]
    },
    {
      "cell_type": "code",
      "execution_count": 40,
      "metadata": {
        "colab": {
          "base_uri": "https://localhost:8080/"
        },
        "id": "RLdpxO6cYub2",
        "outputId": "373be4ec-13f9-44b5-c089-13c52118ce2e"
      },
      "outputs": [
        {
          "data": {
            "text/plain": [
              "{'max_depth': 10, 'n_estimators': 50}"
            ]
          },
          "execution_count": 40,
          "metadata": {},
          "output_type": "execute_result"
        }
      ],
      "source": [
        "# 最適なパラメータ\n",
        "gscv.best_params_"
      ]
    },
    {
      "cell_type": "code",
      "execution_count": 41,
      "metadata": {
        "colab": {
          "base_uri": "https://localhost:8080/"
        },
        "id": "6lYba3c6YurK",
        "outputId": "cc72b8c6-2032-4584-ad9b-6e15f7abbc22"
      },
      "outputs": [
        {
          "name": "stdout",
          "output_type": "stream",
          "text": [
            "MSE(ランダムフォレスト): 58990358.62554847\n"
          ]
        }
      ],
      "source": [
        "# 最適なパラメータによる学習\n",
        "randomforest_model = RandomForestRegressor(**gscv.best_params_)\n",
        "randomforest_model.fit(X_train, Y_train)\n",
        "\n",
        "# テストデータによる評価\n",
        "Y_pred = randomforest_model.predict(X_test)\n",
        "\n",
        "randomforest_model_mse = mean_squared_error(Y_test, Y_pred)\n",
        "print('MSE(ランダムフォレスト):', randomforest_model_mse)"
      ]
    },
    {
      "cell_type": "code",
      "execution_count": null,
      "metadata": {},
      "outputs": [],
      "source": []
    }
  ],
  "metadata": {
    "colab": {
      "provenance": []
    },
    "kernelspec": {
      "display_name": ".venv",
      "language": "python",
      "name": "python3"
    },
    "language_info": {
      "codemirror_mode": {
        "name": "ipython",
        "version": 3
      },
      "file_extension": ".py",
      "mimetype": "text/x-python",
      "name": "python",
      "nbconvert_exporter": "python",
      "pygments_lexer": "ipython3",
      "version": "3.12.10"
    }
  },
  "nbformat": 4,
  "nbformat_minor": 0
}
