{
  "cells": [
    {
      "cell_type": "markdown",
      "metadata": {
        "id": "b1YULAq-b46_"
      },
      "source": [
        "# 課題2：住宅価格の回帰モデルの作成\n",
        "\n",
        "本課題では課題1と同じデータを用いてデータ分析の流れを確認します。各セルに入っているコメントの下に、実行するコードを記入してください。わからない場合は、ここまでのレッスン内容や各種ライブラリの公式ドキュメントを参照しましょう。"
      ]
    },
    {
      "cell_type": "markdown",
      "metadata": {
        "id": "xxZo7AnkcH76"
      },
      "source": [
        "## 1. 必要なライブラリの読み込み"
      ]
    },
    {
      "cell_type": "code",
      "execution_count": 1,
      "metadata": {
        "id": "7VA-1KsTbwGQ"
      },
      "outputs": [],
      "source": [
        "# 必要なライブラリの読み込み（変更しないでください）\n",
        "import matplotlib.pyplot as plt\n",
        "import numpy as np\n",
        "import pandas as pd\n",
        "\n",
        "from sklearn.linear_model import LinearRegression\n",
        "from sklearn.tree import DecisionTreeRegressor\n",
        "from sklearn.ensemble import RandomForestRegressor\n",
        "\n",
        "from sklearn.model_selection import train_test_split\n",
        "from sklearn.metrics import mean_squared_error"
      ]
    },
    {
      "cell_type": "markdown",
      "metadata": {
        "id": "iBBe41O_cUPn"
      },
      "source": [
        "## 2. データの読み込み\n",
        "\n",
        "CSVファイル *iowa_ames_housing_price.csv* を読み込み、内容を確認します。"
      ]
    },
    {
      "cell_type": "code",
      "execution_count": 3,
      "metadata": {
        "id": "YNWdzlmtcocO"
      },
      "outputs": [],
      "source": [
        "# データを変数datasetに読み込む\n",
        "pd.options.display.max_columns = None\n",
        "dataset = pd.read_csv(\"./iowa_ames_housing_price.csv\")\n"
      ]
    },
    {
      "cell_type": "code",
      "execution_count": 4,
      "metadata": {
        "id": "zUBOA0cucs4W"
      },
      "outputs": [
        {
          "data": {
            "text/html": [
              "<div>\n",
              "<style scoped>\n",
              "    .dataframe tbody tr th:only-of-type {\n",
              "        vertical-align: middle;\n",
              "    }\n",
              "\n",
              "    .dataframe tbody tr th {\n",
              "        vertical-align: top;\n",
              "    }\n",
              "\n",
              "    .dataframe thead th {\n",
              "        text-align: right;\n",
              "    }\n",
              "</style>\n",
              "<table border=\"1\" class=\"dataframe\">\n",
              "  <thead>\n",
              "    <tr style=\"text-align: right;\">\n",
              "      <th></th>\n",
              "      <th>Order</th>\n",
              "      <th>area</th>\n",
              "      <th>price</th>\n",
              "      <th>MSSubClass</th>\n",
              "      <th>MSZoning</th>\n",
              "      <th>LotFrontage</th>\n",
              "      <th>LotArea</th>\n",
              "      <th>Street</th>\n",
              "      <th>Alley</th>\n",
              "      <th>LotShape</th>\n",
              "      <th>LandContour</th>\n",
              "      <th>Utilities</th>\n",
              "      <th>LotConfig</th>\n",
              "      <th>LandSlope</th>\n",
              "      <th>Neighborhood</th>\n",
              "      <th>Condition1</th>\n",
              "      <th>Condition2</th>\n",
              "      <th>BldgType</th>\n",
              "      <th>HouseStyle</th>\n",
              "      <th>OverallQual</th>\n",
              "      <th>OverallCond</th>\n",
              "      <th>YearBuilt</th>\n",
              "      <th>YearRemodAdd</th>\n",
              "      <th>RoofStyle</th>\n",
              "      <th>RoofMatl</th>\n",
              "      <th>Exterior1st</th>\n",
              "      <th>Exterior2nd</th>\n",
              "      <th>MasVnrType</th>\n",
              "      <th>MasVnrArea</th>\n",
              "      <th>ExterQual</th>\n",
              "      <th>ExterCond</th>\n",
              "      <th>Foundation</th>\n",
              "      <th>BsmtQual</th>\n",
              "      <th>BsmtCond</th>\n",
              "      <th>BsmtExposure</th>\n",
              "      <th>BsmtFinType1</th>\n",
              "      <th>BsmtFinSF1</th>\n",
              "      <th>BsmtFinType2</th>\n",
              "      <th>BsmtFinSF2</th>\n",
              "      <th>BsmtUnfSF</th>\n",
              "      <th>TotalBsmtSF</th>\n",
              "      <th>Heating</th>\n",
              "      <th>HeatingQC</th>\n",
              "      <th>CentralAir</th>\n",
              "      <th>Electrical</th>\n",
              "      <th>X1stFlrSF</th>\n",
              "      <th>X2ndFlrSF</th>\n",
              "      <th>LowQualFinSF</th>\n",
              "      <th>BsmtFullBath</th>\n",
              "      <th>BsmtHalfBath</th>\n",
              "      <th>FullBath</th>\n",
              "      <th>HalfBath</th>\n",
              "      <th>BedroomAbvGr</th>\n",
              "      <th>KitchenAbvGr</th>\n",
              "      <th>KitchenQual</th>\n",
              "      <th>TotRmsAbvGrd</th>\n",
              "      <th>Functional</th>\n",
              "      <th>Fireplaces</th>\n",
              "      <th>FireplaceQu</th>\n",
              "      <th>GarageType</th>\n",
              "      <th>GarageYrBlt</th>\n",
              "      <th>GarageFinish</th>\n",
              "      <th>GarageCars</th>\n",
              "      <th>GarageArea</th>\n",
              "      <th>GarageQual</th>\n",
              "      <th>GarageCond</th>\n",
              "      <th>PavedDrive</th>\n",
              "      <th>WoodDeckSF</th>\n",
              "      <th>OpenPorchSF</th>\n",
              "      <th>EnclosedPorch</th>\n",
              "      <th>X3SsnPorch</th>\n",
              "      <th>ScreenPorch</th>\n",
              "      <th>PoolArea</th>\n",
              "      <th>PoolQC</th>\n",
              "      <th>Fence</th>\n",
              "      <th>MiscFeature</th>\n",
              "      <th>MiscVal</th>\n",
              "      <th>MoSold</th>\n",
              "      <th>YrSold</th>\n",
              "      <th>SaleType</th>\n",
              "      <th>SaleCondition</th>\n",
              "    </tr>\n",
              "  </thead>\n",
              "  <tbody>\n",
              "    <tr>\n",
              "      <th>0</th>\n",
              "      <td>1</td>\n",
              "      <td>1710</td>\n",
              "      <td>208500</td>\n",
              "      <td>60</td>\n",
              "      <td>RL</td>\n",
              "      <td>65.0</td>\n",
              "      <td>8450</td>\n",
              "      <td>Pave</td>\n",
              "      <td>NaN</td>\n",
              "      <td>Reg</td>\n",
              "      <td>Lvl</td>\n",
              "      <td>AllPub</td>\n",
              "      <td>Inside</td>\n",
              "      <td>Gtl</td>\n",
              "      <td>CollgCr</td>\n",
              "      <td>Norm</td>\n",
              "      <td>Norm</td>\n",
              "      <td>1Fam</td>\n",
              "      <td>2Story</td>\n",
              "      <td>7</td>\n",
              "      <td>5</td>\n",
              "      <td>2003</td>\n",
              "      <td>2003</td>\n",
              "      <td>Gable</td>\n",
              "      <td>CompShg</td>\n",
              "      <td>VinylSd</td>\n",
              "      <td>VinylSd</td>\n",
              "      <td>BrkFace</td>\n",
              "      <td>196.0</td>\n",
              "      <td>Gd</td>\n",
              "      <td>TA</td>\n",
              "      <td>PConc</td>\n",
              "      <td>Gd</td>\n",
              "      <td>TA</td>\n",
              "      <td>No</td>\n",
              "      <td>GLQ</td>\n",
              "      <td>706</td>\n",
              "      <td>Unf</td>\n",
              "      <td>0</td>\n",
              "      <td>150</td>\n",
              "      <td>856</td>\n",
              "      <td>GasA</td>\n",
              "      <td>Ex</td>\n",
              "      <td>Y</td>\n",
              "      <td>SBrkr</td>\n",
              "      <td>856</td>\n",
              "      <td>854</td>\n",
              "      <td>0</td>\n",
              "      <td>1</td>\n",
              "      <td>0</td>\n",
              "      <td>2</td>\n",
              "      <td>1</td>\n",
              "      <td>3</td>\n",
              "      <td>1</td>\n",
              "      <td>Gd</td>\n",
              "      <td>8</td>\n",
              "      <td>Typ</td>\n",
              "      <td>0</td>\n",
              "      <td>NaN</td>\n",
              "      <td>Attchd</td>\n",
              "      <td>2003.0</td>\n",
              "      <td>RFn</td>\n",
              "      <td>2</td>\n",
              "      <td>548</td>\n",
              "      <td>TA</td>\n",
              "      <td>TA</td>\n",
              "      <td>Y</td>\n",
              "      <td>0</td>\n",
              "      <td>61</td>\n",
              "      <td>0</td>\n",
              "      <td>0</td>\n",
              "      <td>0</td>\n",
              "      <td>0</td>\n",
              "      <td>NaN</td>\n",
              "      <td>NaN</td>\n",
              "      <td>NaN</td>\n",
              "      <td>0</td>\n",
              "      <td>2</td>\n",
              "      <td>2008</td>\n",
              "      <td>WD</td>\n",
              "      <td>Normal</td>\n",
              "    </tr>\n",
              "    <tr>\n",
              "      <th>1</th>\n",
              "      <td>2</td>\n",
              "      <td>1262</td>\n",
              "      <td>181500</td>\n",
              "      <td>20</td>\n",
              "      <td>RL</td>\n",
              "      <td>80.0</td>\n",
              "      <td>9600</td>\n",
              "      <td>Pave</td>\n",
              "      <td>NaN</td>\n",
              "      <td>Reg</td>\n",
              "      <td>Lvl</td>\n",
              "      <td>AllPub</td>\n",
              "      <td>FR2</td>\n",
              "      <td>Gtl</td>\n",
              "      <td>Veenker</td>\n",
              "      <td>Feedr</td>\n",
              "      <td>Norm</td>\n",
              "      <td>1Fam</td>\n",
              "      <td>1Story</td>\n",
              "      <td>6</td>\n",
              "      <td>8</td>\n",
              "      <td>1976</td>\n",
              "      <td>1976</td>\n",
              "      <td>Gable</td>\n",
              "      <td>CompShg</td>\n",
              "      <td>MetalSd</td>\n",
              "      <td>MetalSd</td>\n",
              "      <td>NaN</td>\n",
              "      <td>0.0</td>\n",
              "      <td>TA</td>\n",
              "      <td>TA</td>\n",
              "      <td>CBlock</td>\n",
              "      <td>Gd</td>\n",
              "      <td>TA</td>\n",
              "      <td>Gd</td>\n",
              "      <td>ALQ</td>\n",
              "      <td>978</td>\n",
              "      <td>Unf</td>\n",
              "      <td>0</td>\n",
              "      <td>284</td>\n",
              "      <td>1262</td>\n",
              "      <td>GasA</td>\n",
              "      <td>Ex</td>\n",
              "      <td>Y</td>\n",
              "      <td>SBrkr</td>\n",
              "      <td>1262</td>\n",
              "      <td>0</td>\n",
              "      <td>0</td>\n",
              "      <td>0</td>\n",
              "      <td>1</td>\n",
              "      <td>2</td>\n",
              "      <td>0</td>\n",
              "      <td>3</td>\n",
              "      <td>1</td>\n",
              "      <td>TA</td>\n",
              "      <td>6</td>\n",
              "      <td>Typ</td>\n",
              "      <td>1</td>\n",
              "      <td>TA</td>\n",
              "      <td>Attchd</td>\n",
              "      <td>1976.0</td>\n",
              "      <td>RFn</td>\n",
              "      <td>2</td>\n",
              "      <td>460</td>\n",
              "      <td>TA</td>\n",
              "      <td>TA</td>\n",
              "      <td>Y</td>\n",
              "      <td>298</td>\n",
              "      <td>0</td>\n",
              "      <td>0</td>\n",
              "      <td>0</td>\n",
              "      <td>0</td>\n",
              "      <td>0</td>\n",
              "      <td>NaN</td>\n",
              "      <td>NaN</td>\n",
              "      <td>NaN</td>\n",
              "      <td>0</td>\n",
              "      <td>5</td>\n",
              "      <td>2007</td>\n",
              "      <td>WD</td>\n",
              "      <td>Normal</td>\n",
              "    </tr>\n",
              "    <tr>\n",
              "      <th>2</th>\n",
              "      <td>3</td>\n",
              "      <td>1786</td>\n",
              "      <td>223500</td>\n",
              "      <td>60</td>\n",
              "      <td>RL</td>\n",
              "      <td>68.0</td>\n",
              "      <td>11250</td>\n",
              "      <td>Pave</td>\n",
              "      <td>NaN</td>\n",
              "      <td>IR1</td>\n",
              "      <td>Lvl</td>\n",
              "      <td>AllPub</td>\n",
              "      <td>Inside</td>\n",
              "      <td>Gtl</td>\n",
              "      <td>CollgCr</td>\n",
              "      <td>Norm</td>\n",
              "      <td>Norm</td>\n",
              "      <td>1Fam</td>\n",
              "      <td>2Story</td>\n",
              "      <td>7</td>\n",
              "      <td>5</td>\n",
              "      <td>2001</td>\n",
              "      <td>2002</td>\n",
              "      <td>Gable</td>\n",
              "      <td>CompShg</td>\n",
              "      <td>VinylSd</td>\n",
              "      <td>VinylSd</td>\n",
              "      <td>BrkFace</td>\n",
              "      <td>162.0</td>\n",
              "      <td>Gd</td>\n",
              "      <td>TA</td>\n",
              "      <td>PConc</td>\n",
              "      <td>Gd</td>\n",
              "      <td>TA</td>\n",
              "      <td>Mn</td>\n",
              "      <td>GLQ</td>\n",
              "      <td>486</td>\n",
              "      <td>Unf</td>\n",
              "      <td>0</td>\n",
              "      <td>434</td>\n",
              "      <td>920</td>\n",
              "      <td>GasA</td>\n",
              "      <td>Ex</td>\n",
              "      <td>Y</td>\n",
              "      <td>SBrkr</td>\n",
              "      <td>920</td>\n",
              "      <td>866</td>\n",
              "      <td>0</td>\n",
              "      <td>1</td>\n",
              "      <td>0</td>\n",
              "      <td>2</td>\n",
              "      <td>1</td>\n",
              "      <td>3</td>\n",
              "      <td>1</td>\n",
              "      <td>Gd</td>\n",
              "      <td>6</td>\n",
              "      <td>Typ</td>\n",
              "      <td>1</td>\n",
              "      <td>TA</td>\n",
              "      <td>Attchd</td>\n",
              "      <td>2001.0</td>\n",
              "      <td>RFn</td>\n",
              "      <td>2</td>\n",
              "      <td>608</td>\n",
              "      <td>TA</td>\n",
              "      <td>TA</td>\n",
              "      <td>Y</td>\n",
              "      <td>0</td>\n",
              "      <td>42</td>\n",
              "      <td>0</td>\n",
              "      <td>0</td>\n",
              "      <td>0</td>\n",
              "      <td>0</td>\n",
              "      <td>NaN</td>\n",
              "      <td>NaN</td>\n",
              "      <td>NaN</td>\n",
              "      <td>0</td>\n",
              "      <td>9</td>\n",
              "      <td>2008</td>\n",
              "      <td>WD</td>\n",
              "      <td>Normal</td>\n",
              "    </tr>\n",
              "    <tr>\n",
              "      <th>3</th>\n",
              "      <td>4</td>\n",
              "      <td>1717</td>\n",
              "      <td>140000</td>\n",
              "      <td>70</td>\n",
              "      <td>RL</td>\n",
              "      <td>60.0</td>\n",
              "      <td>9550</td>\n",
              "      <td>Pave</td>\n",
              "      <td>NaN</td>\n",
              "      <td>IR1</td>\n",
              "      <td>Lvl</td>\n",
              "      <td>AllPub</td>\n",
              "      <td>Corner</td>\n",
              "      <td>Gtl</td>\n",
              "      <td>Crawfor</td>\n",
              "      <td>Norm</td>\n",
              "      <td>Norm</td>\n",
              "      <td>1Fam</td>\n",
              "      <td>2Story</td>\n",
              "      <td>7</td>\n",
              "      <td>5</td>\n",
              "      <td>1915</td>\n",
              "      <td>1970</td>\n",
              "      <td>Gable</td>\n",
              "      <td>CompShg</td>\n",
              "      <td>Wd Sdng</td>\n",
              "      <td>Wd Shng</td>\n",
              "      <td>NaN</td>\n",
              "      <td>0.0</td>\n",
              "      <td>TA</td>\n",
              "      <td>TA</td>\n",
              "      <td>BrkTil</td>\n",
              "      <td>TA</td>\n",
              "      <td>Gd</td>\n",
              "      <td>No</td>\n",
              "      <td>ALQ</td>\n",
              "      <td>216</td>\n",
              "      <td>Unf</td>\n",
              "      <td>0</td>\n",
              "      <td>540</td>\n",
              "      <td>756</td>\n",
              "      <td>GasA</td>\n",
              "      <td>Gd</td>\n",
              "      <td>Y</td>\n",
              "      <td>SBrkr</td>\n",
              "      <td>961</td>\n",
              "      <td>756</td>\n",
              "      <td>0</td>\n",
              "      <td>1</td>\n",
              "      <td>0</td>\n",
              "      <td>1</td>\n",
              "      <td>0</td>\n",
              "      <td>3</td>\n",
              "      <td>1</td>\n",
              "      <td>Gd</td>\n",
              "      <td>7</td>\n",
              "      <td>Typ</td>\n",
              "      <td>1</td>\n",
              "      <td>Gd</td>\n",
              "      <td>Detchd</td>\n",
              "      <td>1998.0</td>\n",
              "      <td>Unf</td>\n",
              "      <td>3</td>\n",
              "      <td>642</td>\n",
              "      <td>TA</td>\n",
              "      <td>TA</td>\n",
              "      <td>Y</td>\n",
              "      <td>0</td>\n",
              "      <td>35</td>\n",
              "      <td>272</td>\n",
              "      <td>0</td>\n",
              "      <td>0</td>\n",
              "      <td>0</td>\n",
              "      <td>NaN</td>\n",
              "      <td>NaN</td>\n",
              "      <td>NaN</td>\n",
              "      <td>0</td>\n",
              "      <td>2</td>\n",
              "      <td>2006</td>\n",
              "      <td>WD</td>\n",
              "      <td>Abnorml</td>\n",
              "    </tr>\n",
              "    <tr>\n",
              "      <th>4</th>\n",
              "      <td>5</td>\n",
              "      <td>2198</td>\n",
              "      <td>250000</td>\n",
              "      <td>60</td>\n",
              "      <td>RL</td>\n",
              "      <td>84.0</td>\n",
              "      <td>14260</td>\n",
              "      <td>Pave</td>\n",
              "      <td>NaN</td>\n",
              "      <td>IR1</td>\n",
              "      <td>Lvl</td>\n",
              "      <td>AllPub</td>\n",
              "      <td>FR2</td>\n",
              "      <td>Gtl</td>\n",
              "      <td>NoRidge</td>\n",
              "      <td>Norm</td>\n",
              "      <td>Norm</td>\n",
              "      <td>1Fam</td>\n",
              "      <td>2Story</td>\n",
              "      <td>8</td>\n",
              "      <td>5</td>\n",
              "      <td>2000</td>\n",
              "      <td>2000</td>\n",
              "      <td>Gable</td>\n",
              "      <td>CompShg</td>\n",
              "      <td>VinylSd</td>\n",
              "      <td>VinylSd</td>\n",
              "      <td>BrkFace</td>\n",
              "      <td>350.0</td>\n",
              "      <td>Gd</td>\n",
              "      <td>TA</td>\n",
              "      <td>PConc</td>\n",
              "      <td>Gd</td>\n",
              "      <td>TA</td>\n",
              "      <td>Av</td>\n",
              "      <td>GLQ</td>\n",
              "      <td>655</td>\n",
              "      <td>Unf</td>\n",
              "      <td>0</td>\n",
              "      <td>490</td>\n",
              "      <td>1145</td>\n",
              "      <td>GasA</td>\n",
              "      <td>Ex</td>\n",
              "      <td>Y</td>\n",
              "      <td>SBrkr</td>\n",
              "      <td>1145</td>\n",
              "      <td>1053</td>\n",
              "      <td>0</td>\n",
              "      <td>1</td>\n",
              "      <td>0</td>\n",
              "      <td>2</td>\n",
              "      <td>1</td>\n",
              "      <td>4</td>\n",
              "      <td>1</td>\n",
              "      <td>Gd</td>\n",
              "      <td>9</td>\n",
              "      <td>Typ</td>\n",
              "      <td>1</td>\n",
              "      <td>TA</td>\n",
              "      <td>Attchd</td>\n",
              "      <td>2000.0</td>\n",
              "      <td>RFn</td>\n",
              "      <td>3</td>\n",
              "      <td>836</td>\n",
              "      <td>TA</td>\n",
              "      <td>TA</td>\n",
              "      <td>Y</td>\n",
              "      <td>192</td>\n",
              "      <td>84</td>\n",
              "      <td>0</td>\n",
              "      <td>0</td>\n",
              "      <td>0</td>\n",
              "      <td>0</td>\n",
              "      <td>NaN</td>\n",
              "      <td>NaN</td>\n",
              "      <td>NaN</td>\n",
              "      <td>0</td>\n",
              "      <td>12</td>\n",
              "      <td>2008</td>\n",
              "      <td>WD</td>\n",
              "      <td>Normal</td>\n",
              "    </tr>\n",
              "  </tbody>\n",
              "</table>\n",
              "</div>"
            ],
            "text/plain": [
              "   Order  area   price  MSSubClass MSZoning  LotFrontage  LotArea Street  \\\n",
              "0      1  1710  208500          60       RL         65.0     8450   Pave   \n",
              "1      2  1262  181500          20       RL         80.0     9600   Pave   \n",
              "2      3  1786  223500          60       RL         68.0    11250   Pave   \n",
              "3      4  1717  140000          70       RL         60.0     9550   Pave   \n",
              "4      5  2198  250000          60       RL         84.0    14260   Pave   \n",
              "\n",
              "  Alley LotShape LandContour Utilities LotConfig LandSlope Neighborhood  \\\n",
              "0   NaN      Reg         Lvl    AllPub    Inside       Gtl      CollgCr   \n",
              "1   NaN      Reg         Lvl    AllPub       FR2       Gtl      Veenker   \n",
              "2   NaN      IR1         Lvl    AllPub    Inside       Gtl      CollgCr   \n",
              "3   NaN      IR1         Lvl    AllPub    Corner       Gtl      Crawfor   \n",
              "4   NaN      IR1         Lvl    AllPub       FR2       Gtl      NoRidge   \n",
              "\n",
              "  Condition1 Condition2 BldgType HouseStyle  OverallQual  OverallCond  \\\n",
              "0       Norm       Norm     1Fam     2Story            7            5   \n",
              "1      Feedr       Norm     1Fam     1Story            6            8   \n",
              "2       Norm       Norm     1Fam     2Story            7            5   \n",
              "3       Norm       Norm     1Fam     2Story            7            5   \n",
              "4       Norm       Norm     1Fam     2Story            8            5   \n",
              "\n",
              "   YearBuilt  YearRemodAdd RoofStyle RoofMatl Exterior1st Exterior2nd  \\\n",
              "0       2003          2003     Gable  CompShg     VinylSd     VinylSd   \n",
              "1       1976          1976     Gable  CompShg     MetalSd     MetalSd   \n",
              "2       2001          2002     Gable  CompShg     VinylSd     VinylSd   \n",
              "3       1915          1970     Gable  CompShg     Wd Sdng     Wd Shng   \n",
              "4       2000          2000     Gable  CompShg     VinylSd     VinylSd   \n",
              "\n",
              "  MasVnrType  MasVnrArea ExterQual ExterCond Foundation BsmtQual BsmtCond  \\\n",
              "0    BrkFace       196.0        Gd        TA      PConc       Gd       TA   \n",
              "1        NaN         0.0        TA        TA     CBlock       Gd       TA   \n",
              "2    BrkFace       162.0        Gd        TA      PConc       Gd       TA   \n",
              "3        NaN         0.0        TA        TA     BrkTil       TA       Gd   \n",
              "4    BrkFace       350.0        Gd        TA      PConc       Gd       TA   \n",
              "\n",
              "  BsmtExposure BsmtFinType1  BsmtFinSF1 BsmtFinType2  BsmtFinSF2  BsmtUnfSF  \\\n",
              "0           No          GLQ         706          Unf           0        150   \n",
              "1           Gd          ALQ         978          Unf           0        284   \n",
              "2           Mn          GLQ         486          Unf           0        434   \n",
              "3           No          ALQ         216          Unf           0        540   \n",
              "4           Av          GLQ         655          Unf           0        490   \n",
              "\n",
              "   TotalBsmtSF Heating HeatingQC CentralAir Electrical  X1stFlrSF  X2ndFlrSF  \\\n",
              "0          856    GasA        Ex          Y      SBrkr        856        854   \n",
              "1         1262    GasA        Ex          Y      SBrkr       1262          0   \n",
              "2          920    GasA        Ex          Y      SBrkr        920        866   \n",
              "3          756    GasA        Gd          Y      SBrkr        961        756   \n",
              "4         1145    GasA        Ex          Y      SBrkr       1145       1053   \n",
              "\n",
              "   LowQualFinSF  BsmtFullBath  BsmtHalfBath  FullBath  HalfBath  BedroomAbvGr  \\\n",
              "0             0             1             0         2         1             3   \n",
              "1             0             0             1         2         0             3   \n",
              "2             0             1             0         2         1             3   \n",
              "3             0             1             0         1         0             3   \n",
              "4             0             1             0         2         1             4   \n",
              "\n",
              "   KitchenAbvGr KitchenQual  TotRmsAbvGrd Functional  Fireplaces FireplaceQu  \\\n",
              "0             1          Gd             8        Typ           0         NaN   \n",
              "1             1          TA             6        Typ           1          TA   \n",
              "2             1          Gd             6        Typ           1          TA   \n",
              "3             1          Gd             7        Typ           1          Gd   \n",
              "4             1          Gd             9        Typ           1          TA   \n",
              "\n",
              "  GarageType  GarageYrBlt GarageFinish  GarageCars  GarageArea GarageQual  \\\n",
              "0     Attchd       2003.0          RFn           2         548         TA   \n",
              "1     Attchd       1976.0          RFn           2         460         TA   \n",
              "2     Attchd       2001.0          RFn           2         608         TA   \n",
              "3     Detchd       1998.0          Unf           3         642         TA   \n",
              "4     Attchd       2000.0          RFn           3         836         TA   \n",
              "\n",
              "  GarageCond PavedDrive  WoodDeckSF  OpenPorchSF  EnclosedPorch  X3SsnPorch  \\\n",
              "0         TA          Y           0           61              0           0   \n",
              "1         TA          Y         298            0              0           0   \n",
              "2         TA          Y           0           42              0           0   \n",
              "3         TA          Y           0           35            272           0   \n",
              "4         TA          Y         192           84              0           0   \n",
              "\n",
              "   ScreenPorch  PoolArea PoolQC Fence MiscFeature  MiscVal  MoSold  YrSold  \\\n",
              "0            0         0    NaN   NaN         NaN        0       2    2008   \n",
              "1            0         0    NaN   NaN         NaN        0       5    2007   \n",
              "2            0         0    NaN   NaN         NaN        0       9    2008   \n",
              "3            0         0    NaN   NaN         NaN        0       2    2006   \n",
              "4            0         0    NaN   NaN         NaN        0      12    2008   \n",
              "\n",
              "  SaleType SaleCondition  \n",
              "0       WD        Normal  \n",
              "1       WD        Normal  \n",
              "2       WD        Normal  \n",
              "3       WD       Abnorml  \n",
              "4       WD        Normal  "
            ]
          },
          "execution_count": 4,
          "metadata": {},
          "output_type": "execute_result"
        }
      ],
      "source": [
        "# データの最初の5行を表示\n",
        "dataset.head()\n"
      ]
    },
    {
      "cell_type": "code",
      "execution_count": 7,
      "metadata": {},
      "outputs": [
        {
          "data": {
            "text/plain": [
              "(1460, 81)"
            ]
          },
          "execution_count": 7,
          "metadata": {},
          "output_type": "execute_result"
        }
      ],
      "source": [
        "dataset.shape"
      ]
    },
    {
      "cell_type": "code",
      "execution_count": 8,
      "metadata": {},
      "outputs": [
        {
          "name": "stdout",
          "output_type": "stream",
          "text": [
            "<class 'pandas.core.frame.DataFrame'>\n",
            "RangeIndex: 1460 entries, 0 to 1459\n",
            "Data columns (total 81 columns):\n",
            " #   Column         Non-Null Count  Dtype  \n",
            "---  ------         --------------  -----  \n",
            " 0   Order          1460 non-null   int64  \n",
            " 1   area           1460 non-null   int64  \n",
            " 2   price          1460 non-null   int64  \n",
            " 3   MSSubClass     1460 non-null   int64  \n",
            " 4   MSZoning       1460 non-null   object \n",
            " 5   LotFrontage    1201 non-null   float64\n",
            " 6   LotArea        1460 non-null   int64  \n",
            " 7   Street         1460 non-null   object \n",
            " 8   Alley          91 non-null     object \n",
            " 9   LotShape       1460 non-null   object \n",
            " 10  LandContour    1460 non-null   object \n",
            " 11  Utilities      1460 non-null   object \n",
            " 12  LotConfig      1460 non-null   object \n",
            " 13  LandSlope      1460 non-null   object \n",
            " 14  Neighborhood   1460 non-null   object \n",
            " 15  Condition1     1460 non-null   object \n",
            " 16  Condition2     1460 non-null   object \n",
            " 17  BldgType       1460 non-null   object \n",
            " 18  HouseStyle     1460 non-null   object \n",
            " 19  OverallQual    1460 non-null   int64  \n",
            " 20  OverallCond    1460 non-null   int64  \n",
            " 21  YearBuilt      1460 non-null   int64  \n",
            " 22  YearRemodAdd   1460 non-null   int64  \n",
            " 23  RoofStyle      1460 non-null   object \n",
            " 24  RoofMatl       1460 non-null   object \n",
            " 25  Exterior1st    1460 non-null   object \n",
            " 26  Exterior2nd    1460 non-null   object \n",
            " 27  MasVnrType     588 non-null    object \n",
            " 28  MasVnrArea     1452 non-null   float64\n",
            " 29  ExterQual      1460 non-null   object \n",
            " 30  ExterCond      1460 non-null   object \n",
            " 31  Foundation     1460 non-null   object \n",
            " 32  BsmtQual       1423 non-null   object \n",
            " 33  BsmtCond       1423 non-null   object \n",
            " 34  BsmtExposure   1422 non-null   object \n",
            " 35  BsmtFinType1   1423 non-null   object \n",
            " 36  BsmtFinSF1     1460 non-null   int64  \n",
            " 37  BsmtFinType2   1422 non-null   object \n",
            " 38  BsmtFinSF2     1460 non-null   int64  \n",
            " 39  BsmtUnfSF      1460 non-null   int64  \n",
            " 40  TotalBsmtSF    1460 non-null   int64  \n",
            " 41  Heating        1460 non-null   object \n",
            " 42  HeatingQC      1460 non-null   object \n",
            " 43  CentralAir     1460 non-null   object \n",
            " 44  Electrical     1459 non-null   object \n",
            " 45  X1stFlrSF      1460 non-null   int64  \n",
            " 46  X2ndFlrSF      1460 non-null   int64  \n",
            " 47  LowQualFinSF   1460 non-null   int64  \n",
            " 48  BsmtFullBath   1460 non-null   int64  \n",
            " 49  BsmtHalfBath   1460 non-null   int64  \n",
            " 50  FullBath       1460 non-null   int64  \n",
            " 51  HalfBath       1460 non-null   int64  \n",
            " 52  BedroomAbvGr   1460 non-null   int64  \n",
            " 53  KitchenAbvGr   1460 non-null   int64  \n",
            " 54  KitchenQual    1460 non-null   object \n",
            " 55  TotRmsAbvGrd   1460 non-null   int64  \n",
            " 56  Functional     1460 non-null   object \n",
            " 57  Fireplaces     1460 non-null   int64  \n",
            " 58  FireplaceQu    770 non-null    object \n",
            " 59  GarageType     1379 non-null   object \n",
            " 60  GarageYrBlt    1379 non-null   float64\n",
            " 61  GarageFinish   1379 non-null   object \n",
            " 62  GarageCars     1460 non-null   int64  \n",
            " 63  GarageArea     1460 non-null   int64  \n",
            " 64  GarageQual     1379 non-null   object \n",
            " 65  GarageCond     1379 non-null   object \n",
            " 66  PavedDrive     1460 non-null   object \n",
            " 67  WoodDeckSF     1460 non-null   int64  \n",
            " 68  OpenPorchSF    1460 non-null   int64  \n",
            " 69  EnclosedPorch  1460 non-null   int64  \n",
            " 70  X3SsnPorch     1460 non-null   int64  \n",
            " 71  ScreenPorch    1460 non-null   int64  \n",
            " 72  PoolArea       1460 non-null   int64  \n",
            " 73  PoolQC         7 non-null      object \n",
            " 74  Fence          281 non-null    object \n",
            " 75  MiscFeature    54 non-null     object \n",
            " 76  MiscVal        1460 non-null   int64  \n",
            " 77  MoSold         1460 non-null   int64  \n",
            " 78  YrSold         1460 non-null   int64  \n",
            " 79  SaleType       1460 non-null   object \n",
            " 80  SaleCondition  1460 non-null   object \n",
            "dtypes: float64(3), int64(35), object(43)\n",
            "memory usage: 924.0+ KB\n"
          ]
        }
      ],
      "source": [
        "dataset.info()"
      ]
    },
    {
      "cell_type": "markdown",
      "metadata": {
        "id": "Yw_tTBtJcz2Y"
      },
      "source": [
        "## 3. 目的変数と説明変数の選択\n",
        "\n",
        "ここでは、以下の列を使用します。\n",
        "\n",
        "- 目的変数： `price`\n",
        "- 説明変数： `OverallQual`, `area`, `X2ndFlrSF`, `BsmtFinSF1`,  `OverallCond`"
      ]
    },
    {
      "cell_type": "code",
      "execution_count": 5,
      "metadata": {
        "id": "hiMVKi3wcumE"
      },
      "outputs": [],
      "source": [
        "# 目的変数の列名（変更しないでください）\n",
        "target_col = 'price'\n",
        "\n",
        "# 説明変数の列名（変更しないでください）\n",
        "feature_cols = ['OverallQual', 'area', 'X2ndFlrSF', 'BsmtFinSF1', 'OverallCond']"
      ]
    },
    {
      "cell_type": "code",
      "execution_count": 13,
      "metadata": {
        "id": "iPFgNgq6d7M8"
      },
      "outputs": [],
      "source": [
        "# target_col と feature_cols を使用して dataset より目的変数と説明変数に該当する列を取得し、\n",
        "# numpy 配列に変換したものを変数 Y と X に格納する\n",
        "\n",
        "\n",
        "\n",
        "# Y:目的変数に該当する列\n",
        "Y = np.array(dataset[target_col])\n",
        "\n",
        "\n",
        "# X:説明変数に該当する列\n",
        "X = np.array(dataset[feature_cols])\n"
      ]
    },
    {
      "cell_type": "code",
      "execution_count": 14,
      "metadata": {},
      "outputs": [
        {
          "name": "stdout",
          "output_type": "stream",
          "text": [
            "Y= (1460,) , X= (1460, 5)\n"
          ]
        }
      ],
      "source": [
        "print(\"Y=\", Y.shape, \", X=\", X.shape)"
      ]
    },
    {
      "cell_type": "markdown",
      "metadata": {
        "id": "kFb9kNkyeVYX"
      },
      "source": [
        "## 4. データの分割\n",
        "\n",
        "この課題では、ホールドアウト法でデータを分割します。"
      ]
    },
    {
      "cell_type": "code",
      "execution_count": 15,
      "metadata": {
        "id": "26cMzaEreWCL"
      },
      "outputs": [],
      "source": [
        "# X と Y を 機械学習用データとテストデータに7:3で分ける(X_train, X_test, Y_train, Y_test)\n",
        "X_train, X_test, Y_train, Y_test = train_test_split(X, Y, test_size=0.3, random_state=0)\n",
        "\n"
      ]
    },
    {
      "cell_type": "code",
      "execution_count": 16,
      "metadata": {
        "id": "-HKMiuIXejNE"
      },
      "outputs": [],
      "source": [
        "# 機械学習用データを、学習データと検証データに7:3で分ける(X_train, X_valid, Y_train, Y_valid)\n",
        "X_train, X_valid, Y_train, Y_valid = train_test_split(X_train, Y_train, test_size=0.3, random_state=0)"
      ]
    },
    {
      "cell_type": "markdown",
      "metadata": {
        "id": "f4HGf4VTen9x"
      },
      "source": [
        "## 5. モデルの作成から評価まで\n",
        "\n",
        "線形回帰モデルと、回帰木、ランダムフォレストの3つのモデルを作成して比較します。それぞれのモデルで以下を行います。\n",
        "- モデルの作成\n",
        "- 学習データによる学習\n",
        "- 検証データによる予測\n",
        "- MSEの算出"
      ]
    },
    {
      "cell_type": "code",
      "execution_count": 19,
      "metadata": {
        "id": "i0-F4hTpeqL5"
      },
      "outputs": [
        {
          "name": "stdout",
          "output_type": "stream",
          "text": [
            "MSE(1変数の線形回帰モデル): 1670916761.2011995\n"
          ]
        }
      ],
      "source": [
        "# 線形回帰モデルを作成し、学習・予測を実施して、MSEを算出する\n",
        "liner_model = LinearRegression()\n",
        "\n",
        "liner_model.fit(X_train,Y_train)\n",
        "\n",
        "Y_pred = liner_model.predict(X_valid)\n",
        "\n",
        "#print(Y_valid[:5])\n",
        "#print(Y_pred[:5])\n",
        "liner_model_mse = mean_squared_error(Y_valid,Y_pred)\n",
        "print('MSE(1変数の線形回帰モデル):', liner_model_mse)\n",
        "\n"
      ]
    },
    {
      "cell_type": "code",
      "execution_count": 20,
      "metadata": {
        "id": "-6aw688kfvbF"
      },
      "outputs": [
        {
          "name": "stdout",
          "output_type": "stream",
          "text": [
            "MSE(回帰木): 2357536259.1824102\n"
          ]
        }
      ],
      "source": [
        "# 回帰木のモデルを作成し、学習・予測を実施して、MSEを算出する\n",
        "tree_model = DecisionTreeRegressor()\n",
        "\n",
        "tree_model.fit(X_train,Y_train)\n",
        "\n",
        "Y_pred = tree_model.predict(X_valid)\n",
        "\n",
        "tree_model_mse = mean_squared_error(Y_valid,Y_pred)\n",
        "print('MSE(回帰木):', tree_model_mse)"
      ]
    },
    {
      "cell_type": "code",
      "execution_count": 22,
      "metadata": {
        "id": "UNRsa17wfz2Z"
      },
      "outputs": [
        {
          "name": "stdout",
          "output_type": "stream",
          "text": [
            "MSE(ランダムフォレスト): 1784879819.4065275\n"
          ]
        }
      ],
      "source": [
        "# ランダムフォレストのモデルを作成し、学習・予測を実施して、MSEを算出する\n",
        "\n",
        "randomforest_model = RandomForestRegressor(n_estimators=10, random_state=0)\n",
        "\n",
        "randomforest_model.fit(X_train,Y_train)\n",
        "\n",
        "Y_pred = randomforest_model.predict(X_valid)\n",
        "\n",
        "randomforest_model_mse = mean_squared_error(Y_valid,Y_pred)\n",
        "print('MSE(ランダムフォレスト):', randomforest_model_mse)\n",
        "\n",
        "\n"
      ]
    },
    {
      "cell_type": "code",
      "execution_count": null,
      "metadata": {},
      "outputs": [],
      "source": [
        "\"\"\"\n",
        "LI:1670916761.2011995\n",
        "TR:2357536259.1824102\n",
        "RM:1784879819.4065275\n",
        "\n",
        "MSEの値が一番小さいのは線形回帰モデル\n",
        "\n",
        "\"\"\""
      ]
    },
    {
      "cell_type": "markdown",
      "metadata": {
        "id": "VZfcs87vf9rE"
      },
      "source": [
        "## 6. テストデータによる汎化性能の確認\n",
        "\n",
        "3つの中でもっともMSEの値が良かったモデルについて、テストデータで汎化性能を確認しましょう。"
      ]
    },
    {
      "cell_type": "code",
      "execution_count": 23,
      "metadata": {
        "id": "m6KvmI0KgAk5"
      },
      "outputs": [
        {
          "name": "stdout",
          "output_type": "stream",
          "text": [
            "MSE(1変数の線形回帰モデル)_テストデータ: 2309649258.544849\n"
          ]
        }
      ],
      "source": [
        "# テストデータを使って予測を行いMSEを算出\n",
        "Y_pred_test = liner_model.predict(X_test)\n",
        "liner_model_mse_test = mean_squared_error(Y_test,Y_pred_test)\n",
        "print('MSE(1変数の線形回帰モデル)_テストデータ:', liner_model_mse_test)\n",
        "\n",
        "\n"
      ]
    },
    {
      "cell_type": "markdown",
      "metadata": {
        "id": "fxG6cyjPgJBa"
      },
      "source": [
        "## 7. グラフによる確認\n",
        "\n",
        "説明変数が多い場合、「説明変数で目的変数を正しく予測できているか」を可視化することは困難です。そこで「正解と予測値」とを比較することで、予測の精度を可視化してみましょう。"
      ]
    },
    {
      "cell_type": "markdown",
      "metadata": {
        "id": "1jRX4XcVgNVf"
      },
      "source": [
        "### 散布図による可視化\n",
        "\n",
        "X軸(横方向)に `テストデータの正解の値` 、Y軸(縦方向)に `予測値` を使って散布図を作成してみましょう。全体的に右肩上がりで、直線上にデータが並んでいれば、予測が行なえていると判断できます。"
      ]
    },
    {
      "cell_type": "code",
      "execution_count": 37,
      "metadata": {
        "id": "bQjrqnRtgMvW"
      },
      "outputs": [
        {
          "data": {
            "image/png": "[encoded data removed]",
            "text/plain": [
              "<Figure size 640x480 with 1 Axes>"
            ]
          },
          "metadata": {},
          "output_type": "display_data"
        }
      ],
      "source": [
        "# X軸:正解の値、Y軸:予測値で散布図を作成\n",
        "plt.scatter(Y_test, Y_pred_test, alpha=0.6)\n",
        "plt.plot([Y_test.min(), Y_test.max()],\n",
        "         [Y_test.min(), Y_test.max()],\n",
        "         'r--', lw=2)\n",
        "plt.show()"
      ]
    },
    {
      "cell_type": "code",
      "execution_count": 34,
      "metadata": {},
      "outputs": [
        {
          "name": "stdout",
          "output_type": "stream",
          "text": [
            "R^2: 0.6597949373438587\n"
          ]
        }
      ],
      "source": [
        "from sklearn.metrics import r2_score\n",
        "print(\"R^2:\", r2_score(Y_test, Y_pred_test))"
      ]
    },
    {
      "cell_type": "markdown",
      "metadata": {
        "id": "jTex8uTgl-D-"
      },
      "source": [
        "### ヒストグラムによる可視化\n",
        "\n",
        "「誤差率＝正解の値と予測値との差の割合」をヒストグラムで確認してみましょう。誤差率は以下で計算できます。\n",
        "\n",
        "`（正解の値－予測値）/ 正解の値`\n",
        "\n",
        "併せて、誤差率の平均値、標準偏差も出力しましょう。平均値は `numpy` の `mean` 関数、標準偏差は `std` 関数で取得できます。\n",
        "\n",
        "なお、ヒストグラムを描く際は`matplotlib.pyplot`の`hist`関数が使えます。matplotlib.pyplotはpltという名前をつけているはずなので、ヒストグラム化したいデータを`plt.hist()`の引数に渡すことでヒストグラムを描画できます。"
      ]
    },
    {
      "cell_type": "code",
      "execution_count": 66,
      "metadata": {
        "id": "95JnIQ9LgjJA"
      },
      "outputs": [
        {
          "name": "stdout",
          "output_type": "stream",
          "text": [
            "誤差率の平均値(%)：-1.64\n",
            "誤差率の標準偏差(%)：0.298\n"
          ]
        },
        {
          "data": {
            "image/png": "[encoded data removed]",
            "text/plain": [
              "<Figure size 640x480 with 1 Axes>"
            ]
          },
          "metadata": {},
          "output_type": "display_data"
        }
      ],
      "source": [
        "# 実際の成約価格と予測価格の誤差率をヒストグラムで表示\n",
        "# 誤差率計算\n",
        "err = (Y_test-Y_pred_test)/Y_test\n",
        "\n",
        "# %表示にする\n",
        "err_pct = err * 100.0\n",
        "\n",
        "# ヒストグラム表示\n",
        "import matplotlib as mpl\n",
        "mpl.rcParams['font.family'] = 'Hiragino Sans' \n",
        "plt.hist(err_pct, bins=30)\n",
        "plt.xlabel(\"誤差率 [%]\")\n",
        "plt.ylabel(\"件数\")\n",
        "\n",
        "# 平均値\n",
        "mean = np.mean(err_pct)\n",
        "print(f\"誤差率の平均値(%)：{mean:.3}\")\n",
        "\n",
        "# 標準偏差\n",
        "std = np.std(err)\n",
        "print(f\"誤差率の標準偏差(%)：{std:.3}\")\n"
      ]
    },
    {
      "cell_type": "code",
      "execution_count": null,
      "metadata": {},
      "outputs": [],
      "source": []
    }
  ],
  "metadata": {
    "colab": {
      "provenance": []
    },
    "kernelspec": {
      "display_name": ".venv",
      "language": "python",
      "name": "python3"
    },
    "language_info": {
      "codemirror_mode": {
        "name": "ipython",
        "version": 3
      },
      "file_extension": ".py",
      "mimetype": "text/x-python",
      "name": "python",
      "nbconvert_exporter": "python",
      "pygments_lexer": "ipython3",
      "version": "3.12.10"
    }
  },
  "nbformat": 4,
  "nbformat_minor": 0
}
